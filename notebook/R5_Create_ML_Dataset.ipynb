{
 "cells": [
  {
   "cell_type": "code",
   "execution_count": 2,
   "metadata": {},
   "outputs": [],
   "source": [
    "import pandas as pd\n",
    "import numpy as np\n",
    "import os\n",
    "from tqdm import tqdm\n",
    "from shapely.geometry import Point\n",
    "import geopandas as gpd\n",
    "import matplotlib.pyplot as plt"
   ]
  },
  {
   "cell_type": "code",
   "execution_count": 3,
   "metadata": {},
   "outputs": [],
   "source": [
    "daily_trains_demand_pre_covid = pd.read_csv('../data/curated/train_demand/daily_trains_demand_pre_covid.csv')\n",
    "daily_trains_demand_post_covid = pd.read_csv('../data/curated/train_demand/daily_trains_demand_post_covid.csv')"
   ]
  },
  {
   "cell_type": "code",
   "execution_count": 6,
   "metadata": {},
   "outputs": [
    {
     "data": {
      "text/plain": [
       "546"
      ]
     },
     "execution_count": 6,
     "metadata": {},
     "output_type": "execute_result"
    }
   ],
   "source": [
    "len(daily_trains_demand_post_covid['Business_Date'].unique())"
   ]
  },
  {
   "cell_type": "code",
   "execution_count": 14,
   "metadata": {},
   "outputs": [],
   "source": [
    "def get_daily_demand_in_rows(demand_df: pd.DataFrame, feature: str):\n",
    "\n",
    "    df_with_feature = demand_df[['Station_Name', 'Business_Date', feature]]\n",
    "\n",
    "    station_df_list = []\n",
    "\n",
    "    for id, station_df in tqdm(df_with_feature.groupby('Station_Name')):\n",
    "\n",
    "        station_df = station_df.rename({feature: f'{feature}_{id}'}, axis=1)\n",
    "        station_df = station_df.drop('Station_Name', axis=1)\n",
    "        station_df_list.append(station_df)\n",
    "\n",
    "    for i, station_df in enumerate(station_df_list):\n",
    "        if i == 0:\n",
    "            merged_df = station_df\n",
    "        else:\n",
    "            merged_df = pd.merge(merged_df, station_df, on='Business_Date', how='outer')\n",
    "\n",
    "    merged_df = merged_df.fillna(0)\n",
    "    return merged_df"
   ]
  },
  {
   "cell_type": "code",
   "execution_count": 20,
   "metadata": {},
   "outputs": [
    {
     "name": "stderr",
     "output_type": "stream",
     "text": [
      "  0%|          | 0/222 [00:00<?, ?it/s]"
     ]
    },
    {
     "name": "stderr",
     "output_type": "stream",
     "text": [
      "100%|██████████| 222/222 [00:00<00:00, 1694.28it/s]\n",
      "100%|██████████| 223/223 [00:00<00:00, 1628.42it/s]\n",
      "100%|██████████| 222/222 [00:00<00:00, 2254.79it/s]\n",
      "100%|██████████| 223/223 [00:00<00:00, 2530.26it/s]\n",
      "100%|██████████| 222/222 [00:00<00:00, 2005.69it/s]\n",
      "100%|██████████| 223/223 [00:00<00:00, 1931.47it/s]\n"
     ]
    }
   ],
   "source": [
    "log_demand_precovid = get_daily_demand_in_rows(daily_trains_demand_pre_covid, 'log_Total_Demand')\n",
    "log_demand_postcovid = get_daily_demand_in_rows(daily_trains_demand_post_covid, 'log_Total_Demand')\n",
    "log_alighting_precovid = get_daily_demand_in_rows(daily_trains_demand_pre_covid, 'log_Passenger_Alightings')\n",
    "log_alighting_postcovid = get_daily_demand_in_rows(daily_trains_demand_post_covid, 'log_Passenger_Alightings')\n",
    "log_boarding_precovid = get_daily_demand_in_rows(daily_trains_demand_pre_covid, 'log_Passenger_Boardings')\n",
    "log_boarding_postcovid = get_daily_demand_in_rows(daily_trains_demand_post_covid, 'log_Passenger_Boardings')"
   ]
  },
  {
   "cell_type": "code",
   "execution_count": 13,
   "metadata": {},
   "outputs": [],
   "source": [
    "os.mkdir('../data/curated/ML_features')"
   ]
  },
  {
   "cell_type": "code",
   "execution_count": 23,
   "metadata": {},
   "outputs": [],
   "source": [
    "log_demand_precovid.to_csv('../data/curated/ML_features/log_demand_precovid.csv', index=False)\n",
    "log_demand_postcovid.to_csv('../data/curated/ML_features/log_demand_postcovid.csv', index=False)\n",
    "log_alighting_precovid.to_csv('../data/curated/ML_features/log_alighting_precovid.csv', index=False)\n",
    "log_alighting_postcovid.to_csv('../data/curated/ML_features/log_alighting_postcovid.csv', index=False)\n",
    "log_boarding_precovid.to_csv('../data/curated/ML_features/log_boarding_precovid.csv', index=False)\n",
    "log_boarding_postcovid.to_csv('../data/curated/ML_features/log_boarding_postcovid.csv', index=False)"
   ]
  },
  {
   "cell_type": "code",
   "execution_count": null,
   "metadata": {},
   "outputs": [],
   "source": []
  }
 ],
 "metadata": {
  "kernelspec": {
   "display_name": "spanalytics",
   "language": "python",
   "name": "python3"
  },
  "language_info": {
   "codemirror_mode": {
    "name": "ipython",
    "version": 3
   },
   "file_extension": ".py",
   "mimetype": "text/x-python",
   "name": "python",
   "nbconvert_exporter": "python",
   "pygments_lexer": "ipython3",
   "version": "3.11.6"
  }
 },
 "nbformat": 4,
 "nbformat_minor": 2
}
