{
 "cells": [
  {
   "cell_type": "code",
   "execution_count": 1,
   "metadata": {},
   "outputs": [],
   "source": [
    "import pandas as pd\n",
    "import numpy as np\n",
    "import os\n",
    "from tqdm import tqdm\n",
    "from shapely.geometry import Point\n",
    "import geopandas as gpd\n",
    "import matplotlib.pyplot as plt"
   ]
  },
  {
   "cell_type": "code",
   "execution_count": 2,
   "metadata": {},
   "outputs": [],
   "source": [
    "all_points_postcovid = gpd.read_file('../data/curated/stations/all_points_postcovid_(SA2 without stations).shp')\n",
    "\n",
    "hospitals = pd.read_csv('../data/raw/features/non-residential_facilities/hospitals.csv')\n",
    "schools = pd.read_csv('../data/raw/features/non-residential_facilities/schools.csv')\n",
    "shopping_centres = pd.read_csv('../data/raw/features/non-residential_facilities/shopping_centre.csv')\n",
    "sport_facilities = pd.read_csv('../data/raw/features/non-residential_facilities/sport_facilities.csv')\n",
    "sport_facilities2 = pd.read_excel('../data/raw/features/non-residential_facilities/sport_facilities.xlsx')\n",
    "census = pd.read_csv('../data/raw/features/SA2-T02_Selected_Medians_and_Averages.csv/abs_2021census_t02_aust_sa2-8898358042715570011.csv')\n",
    "census2 = gpd.read_file('../data/raw/features/POPULATION_2023_SA2_GDA2020/32180_ERP_2023_SA2_GDA2020.gpkg')"
   ]
  },
  {
   "cell_type": "code",
   "execution_count": 3,
   "metadata": {},
   "outputs": [],
   "source": [
    "census2 = census2[census2['State_name_2021'] == 'Victoria']\n",
    "census_df_list = []\n",
    "for id, group_df in census2[['SA2_name_2021', 'SA2_code_2021', 'Area_km2',\n",
    "       'Pop_density_2023_people_per_km2']].groupby(['SA2_name_2021', 'SA2_code_2021']):\n",
    "    \n",
    "    group_df['total_population'] = group_df['Area_km2'] * group_df['Pop_density_2023_people_per_km2']\n",
    "    census_df_list.append(group_df)\n",
    "\n",
    "census_df = pd.concat(census_df_list)\n",
    "census_df = pd.merge(census_df, census, left_on='SA2_code_2021', right_on=' sa2_code_2021')"
   ]
  },
  {
   "cell_type": "code",
   "execution_count": 4,
   "metadata": {},
   "outputs": [],
   "source": [
    "GCCSA_2021 = gpd.read_file('../data/raw/map polygons/GCCSA_2021_AUST_SHP_GDA2020/GCCSA_2021_AUST_GDA2020.shp')\n",
    "GCCSA_2021 = GCCSA_2021.to_crs('EPSG:7855')\n",
    "Greater_Melbourne_2021 = GCCSA_2021.iloc[4]['geometry']\n",
    "\n",
    "SA2_2021 = gpd.read_file('../data/raw/map polygons/SA2_2021_AUST_SHP_GDA2020/SA2_2021_AUST_GDA2020.shp')\n",
    "SA2_2021 = SA2_2021.to_crs('EPSG:7855')\n",
    "SA2_GreaterMelbourne_2021 = SA2_2021[SA2_2021.within(Greater_Melbourne_2021)]"
   ]
  },
  {
   "cell_type": "code",
   "execution_count": 5,
   "metadata": {},
   "outputs": [],
   "source": [
    "hospitals['geometry'] = [Point(xy) for xy in zip(hospitals['Longitude'], hospitals['Latitude'])]\n",
    "schools['geometry'] = [Point(xy) for xy in zip(schools['Longitude'], schools['Latitude'])]\n",
    "shopping_centres['geometry'] = [Point(xy) for xy in zip(shopping_centres['Longitude'], shopping_centres['Latitude'])]\n",
    "sport_facilities['geometry'] = [Point(xy) for xy in zip(sport_facilities['Longitude'], sport_facilities['Latitude'])]\n",
    "sport_facilities2['geometry'] = [Point(xy) for xy in zip(sport_facilities2['Longitude'], sport_facilities2['Latitude'])]\n",
    "\n",
    "hospitals = gpd.GeoDataFrame(hospitals, crs=\"EPSG:4326\")\n",
    "schools = gpd.GeoDataFrame(schools, crs=\"EPSG:4326\")\n",
    "shopping_centres = gpd.GeoDataFrame(shopping_centres, crs=\"EPSG:4326\")\n",
    "sport_facilities = gpd.GeoDataFrame(sport_facilities, crs=\"EPSG:4326\")\n",
    "sport_facilities2 = gpd.GeoDataFrame(sport_facilities2, crs=\"EPSG:4326\")\n",
    "\n",
    "hospitals = hospitals.to_crs(\"EPSG:7855\")\n",
    "schools = schools.to_crs(\"EPSG:7855\")\n",
    "shopping_centres = shopping_centres.to_crs(\"EPSG:7855\")\n",
    "sport_facilities = sport_facilities.to_crs(\"EPSG:7855\")\n",
    "sport_facilities2 = sport_facilities2.to_crs(\"EPSG:7855\")\n",
    "\n",
    "hospitals = hospitals[['geometry']]\n",
    "schools = schools[['geometry']]\n",
    "shopping_centres = shopping_centres[['geometry']]\n",
    "sport_facilities = sport_facilities[['geometry']]\n",
    "sport_facilities2 = sport_facilities2[['geometry']]"
   ]
  },
  {
   "cell_type": "markdown",
   "metadata": {},
   "source": [
    "---"
   ]
  },
  {
   "cell_type": "code",
   "execution_count": 6,
   "metadata": {},
   "outputs": [],
   "source": [
    "ANN = 1420.443\n",
    "half_ANN = ANN/2"
   ]
  },
  {
   "cell_type": "code",
   "execution_count": 67,
   "metadata": {},
   "outputs": [],
   "source": [
    "# finds the circles with radius ANN and ANN/2 around each point\n",
    "all_points_postcovid['circle_ann'] = all_points_postcovid['geometry'].buffer(ANN)\n",
    "all_points_postcovid['circle_half_ann'] = all_points_postcovid['geometry'].buffer(half_ANN)"
   ]
  },
  {
   "cell_type": "code",
   "execution_count": 68,
   "metadata": {},
   "outputs": [],
   "source": [
    "all_points_postcovid_ann = all_points_postcovid.copy()\n",
    "all_points_postcovid_half_ann = all_points_postcovid.copy()\n",
    "\n",
    "all_points_postcovid_ann = all_points_postcovid_ann.set_geometry('circle_ann')\n",
    "all_points_postcovid_half_ann = all_points_postcovid_half_ann.set_geometry('circle_half_ann')\n",
    "\n",
    "all_points_postcovid_ann['circle_area'] = all_points_postcovid_ann.area"
   ]
  },
  {
   "cell_type": "code",
   "execution_count": 41,
   "metadata": {},
   "outputs": [
    {
     "name": "stderr",
     "output_type": "stream",
     "text": [
      "/Applications/anaconda3/envs/spanalytics/lib/python3.11/site-packages/IPython/core/interactiveshell.py:3517: FutureWarning: The `op` parameter is deprecated and will be removed in a future release. Please use the `predicate` parameter instead.\n",
      "  if await self.run_code(code, result, async_=asy):\n",
      "/Applications/anaconda3/envs/spanalytics/lib/python3.11/site-packages/IPython/core/interactiveshell.py:3517: FutureWarning: The `op` parameter is deprecated and will be removed in a future release. Please use the `predicate` parameter instead.\n",
      "  if await self.run_code(code, result, async_=asy):\n",
      "/Applications/anaconda3/envs/spanalytics/lib/python3.11/site-packages/IPython/core/interactiveshell.py:3517: FutureWarning: The `op` parameter is deprecated and will be removed in a future release. Please use the `predicate` parameter instead.\n",
      "  if await self.run_code(code, result, async_=asy):\n",
      "/Applications/anaconda3/envs/spanalytics/lib/python3.11/site-packages/IPython/core/interactiveshell.py:3517: FutureWarning: The `op` parameter is deprecated and will be removed in a future release. Please use the `predicate` parameter instead.\n",
      "  if await self.run_code(code, result, async_=asy):\n",
      "/Applications/anaconda3/envs/spanalytics/lib/python3.11/site-packages/IPython/core/interactiveshell.py:3517: FutureWarning: The `op` parameter is deprecated and will be removed in a future release. Please use the `predicate` parameter instead.\n",
      "  if await self.run_code(code, result, async_=asy):\n"
     ]
    }
   ],
   "source": [
    "# find the points that intersect with the circles of half ann\n",
    "schools_in_half_ann = gpd.sjoin(schools, all_points_postcovid_half_ann, op='intersects')\n",
    "sport_facilities_in_half_ann = gpd.sjoin(sport_facilities, all_points_postcovid_half_ann, op='intersects')\n",
    "sport_facilities2_in_half_ann = gpd.sjoin(sport_facilities2, all_points_postcovid_half_ann, op='intersects')\n",
    "shopping_centres_in_half_ann = gpd.sjoin(shopping_centres, all_points_postcovid_half_ann, op='intersects')\n",
    "hospitals_in_half_ann = gpd.sjoin(hospitals, all_points_postcovid_half_ann, op='intersects')\n",
    "\n",
    "# find unique point names (all points here had half ann circle intersected with a building)\n",
    "stations_with_schools = schools_in_half_ann['Point Name'].unique()\n",
    "stations_with_sport_facilities = sport_facilities_in_half_ann['Point Name'].unique()\n",
    "stations_with_sport_facilities2 = sport_facilities2_in_half_ann['Point Name'].unique()\n",
    "stations_with_sport_facilities = set(stations_with_sport_facilities).union(set(stations_with_sport_facilities2))\n",
    "stations_with_shopping_centres = shopping_centres_in_half_ann['Point Name'].unique()\n",
    "stations_with_hospitals = hospitals_in_half_ann['Point Name'].unique()\n",
    "\n",
    "# add feature onto all_points_postcovid\n",
    "all_points_postcovid['has_school'] = all_points_postcovid['Point Name'].apply(lambda x: 1 if x in stations_with_schools else 0)\n",
    "all_points_postcovid['has_sport_facility'] = all_points_postcovid['Point Name'].apply(lambda x: 1 if x in stations_with_sport_facilities else 0)\n",
    "all_points_postcovid['has_shopping_centre'] = all_points_postcovid['Point Name'].apply(lambda x: 1 if x in stations_with_shopping_centres else 0)\n",
    "all_points_postcovid['has_hospital'] = all_points_postcovid['Point Name'].apply(lambda x: 1 if x in stations_with_hospitals else 0)"
   ]
  },
  {
   "cell_type": "code",
   "execution_count": 70,
   "metadata": {},
   "outputs": [],
   "source": [
    "census = pd.merge(SA2_GreaterMelbourne_2021[['SA2_NAME21', 'geometry']], census_df, left_on = 'SA2_NAME21', right_on = 'SA2_name_2021', how = 'right')\n",
    "census['area'] = census.geometry.area\n",
    "\n",
    "# find overlapping area\n",
    "all_points_postcovid_ann = gpd.overlay(all_points_postcovid_ann, census, how = 'intersection')\n",
    "all_points_postcovid_ann['intersection_area'] = all_points_postcovid_ann.geometry.area\n",
    "all_points_postcovid_ann['sa2_intersection_percentage'] = all_points_postcovid_ann['intersection_area']/all_points_postcovid_ann['area']\n",
    "all_points_postcovid_ann['circle_intersection_percentage'] = all_points_postcovid_ann['intersection_area']/all_points_postcovid_ann['circle_area']\n",
    "\n",
    "all_points_postcovid_ann1 = all_points_postcovid_ann[['Point Name',\n",
    "       'total_population',\n",
    "        'sa2_intersection_percentage']]\n",
    "\n",
    "all_points_postcovid_ann2 = all_points_postcovid_ann[['Point Name',\n",
    "       'average_hh_size_c2021', ' med_tot_hh_inc_wee_c2021',\n",
    "       ' avg_num_p_per_brm_c2021', ' med_age_persns_c2021',\n",
    "       ' med_rent_weekly_c2021', ' med_mortg_rep_mon_c2021',\n",
    "       ' med_person_inc_we_c2021', ' med_famly_inc_we_c2021',\n",
    "       'circle_intersection_percentage']]\n",
    "\n",
    "# process in following way: total - then take the intersection area's percentage of sa2\n",
    "for col in all_points_postcovid_ann1.columns[1:]:\n",
    "    if col not in ['Point Name', 'sa2_intersection_percentage']:\n",
    "        all_points_postcovid_ann1[col] = all_points_postcovid_ann1[col] * all_points_postcovid_ann1['sa2_intersection_percentage']\n",
    "\n",
    "# process in following way: avearge/median - then take the intersection area's percentage of circle\n",
    "for col in all_points_postcovid_ann2.columns[1:]:\n",
    "    if col not in ['Point Name', 'circle_intersection_percentage']:\n",
    "        all_points_postcovid_ann2[col] = all_points_postcovid_ann2[col] * all_points_postcovid_ann2['circle_intersection_percentage']\n",
    "\n",
    "# Group by 'Point Name' and sum up\n",
    "all_points_postcovid_ann1_grouped = all_points_postcovid_ann1.groupby('Point Name').sum().reset_index()\n",
    "all_points_postcovid_ann2_grouped = all_points_postcovid_ann2.groupby('Point Name').sum().reset_index()\n",
    "\n",
    "all_points_postcovid_ann1_grouped = all_points_postcovid_ann1_grouped.drop(columns=['sa2_intersection_percentage'])\n",
    "all_points_postcovid_ann2_grouped = all_points_postcovid_ann2_grouped.drop(columns=['circle_intersection_percentage'])\n",
    "\n",
    "all_points_postcovid = pd.merge(all_points_postcovid, all_points_postcovid_ann1_grouped, how = 'left', on = 'Point Name')\n",
    "all_points_postcovid = pd.merge(all_points_postcovid, all_points_postcovid_ann2_grouped, how = 'left', on = 'Point Name')\n",
    "\n",
    "all_points_postcovid = all_points_postcovid.drop(['geometry', 'circle_ann', 'circle_half_ann'], axis = 1)"
   ]
  },
  {
   "cell_type": "code",
   "execution_count": 83,
   "metadata": {},
   "outputs": [],
   "source": [
    "all_points_postcovid.to_csv('../data/curated/ML_features/census_and_buildings_postcovid.csv')"
   ]
  },
  {
   "cell_type": "code",
   "execution_count": null,
   "metadata": {},
   "outputs": [],
   "source": []
  }
 ],
 "metadata": {
  "kernelspec": {
   "display_name": "spanalytics",
   "language": "python",
   "name": "python3"
  },
  "language_info": {
   "codemirror_mode": {
    "name": "ipython",
    "version": 3
   },
   "file_extension": ".py",
   "mimetype": "text/x-python",
   "name": "python",
   "nbconvert_exporter": "python",
   "pygments_lexer": "ipython3",
   "version": "3.11.6"
  }
 },
 "nbformat": 4,
 "nbformat_minor": 2
}
