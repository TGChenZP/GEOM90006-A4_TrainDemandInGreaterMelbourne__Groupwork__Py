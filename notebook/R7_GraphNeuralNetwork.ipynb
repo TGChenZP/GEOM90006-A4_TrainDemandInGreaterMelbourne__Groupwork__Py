{
 "cells": [
  {
   "cell_type": "code",
   "execution_count": 1,
   "metadata": {},
   "outputs": [],
   "source": [
    "import pandas as pd\n",
    "import numpy as np\n",
    "from tqdm import tqdm"
   ]
  },
  {
   "cell_type": "code",
   "execution_count": 2,
   "metadata": {},
   "outputs": [],
   "source": [
    "daily_trains_demand_post_covid = pd.read_csv('../data/curated/train_demand/daily_trains_demand_post_covid.csv')"
   ]
  },
  {
   "cell_type": "code",
   "execution_count": 3,
   "metadata": {},
   "outputs": [],
   "source": [
    "stations_list = [x for x in daily_trains_demand_post_covid['Station_Name'].unique()]\n",
    "stations_index = {stations_list[i]:i for i in range(len(stations_list))}\n",
    "reverse_stations_index = {v: k for (k, v) in stations_index.items()}"
   ]
  },
  {
   "cell_type": "code",
   "execution_count": 4,
   "metadata": {},
   "outputs": [],
   "source": [
    "geospatial_features = ['log_Total_Demand']\n",
    "non_geospatial_features = ['Weekday', 'PublicHoliday']\n",
    "label_columns = ['log_Total_Demand']"
   ]
  },
  {
   "cell_type": "code",
   "execution_count": 5,
   "metadata": {},
   "outputs": [],
   "source": [
    "def DataFactory(raw_dataset, geospatial_features, non_geospatial_features, label_columns):\n",
    "\n",
    "    \"\"\" Data Factory of GNN \"\"\"\n",
    "    \n",
    "    geospatial_x_batches = []\n",
    "    non_geospatial_x_batches = []\n",
    "    y_batches = []\n",
    "    masks = []\n",
    "\n",
    "    for day, daily_df in tqdm(raw_dataset.groupby(['Business_Date'])):\n",
    "\n",
    "        geospatial_x = np.zeros([len(stations_index), len(geospatial_features)])\n",
    "        y = np.zeros([len(stations_index), len(label_columns)])\n",
    "        mask = np.zeros([len(stations_index), 1])\n",
    "\n",
    "        daily_df.set_index('Station_Name', inplace=True)\n",
    "\n",
    "        for station in daily_df.index:\n",
    "\n",
    "            geospatial_x[stations_index[station]] = daily_df.loc[station][geospatial_features]\n",
    "            y[stations_index[station]] = daily_df.loc[station][label_columns]\n",
    "            mask[stations_index[station]] = 1\n",
    "                \n",
    "        geospatial_x_batches.append(geospatial_x)\n",
    "        y_batches.append(y)\n",
    "        masks.append(mask)\n",
    "\n",
    "        non_geospatial_x = daily_df[non_geospatial_features].values\n",
    "\n",
    "        non_geospatial_x_batches.append(non_geospatial_x)\n",
    "\n",
    "        \n",
    "    return geospatial_x_batches, non_geospatial_x_batches, y_batches, masks"
   ]
  },
  {
   "cell_type": "code",
   "execution_count": 6,
   "metadata": {},
   "outputs": [
    {
     "name": "stderr",
     "output_type": "stream",
     "text": [
      "100%|██████████| 546/546 [00:58<00:00,  9.28it/s]\n"
     ]
    }
   ],
   "source": [
    "geospatial_X_batches, non_geospatial_X_batches, y_batches, masks = DataFactory(daily_trains_demand_post_covid, geospatial_features, non_geospatial_features, label_columns)"
   ]
  },
  {
   "cell_type": "code",
   "execution_count": 1,
   "metadata": {},
   "outputs": [],
   "source": [
    "import sys\n",
    "import os\n",
    "\n",
    "py_file_location = '../'\n",
    "home_directory = '../'\n",
    "\n",
    "sys.path.append(os.path.abspath(py_file_location))"
   ]
  },
  {
   "cell_type": "code",
   "execution_count": 2,
   "metadata": {},
   "outputs": [],
   "source": [
    "from model.model_class import GNN"
   ]
  },
  {
   "cell_type": "code",
   "execution_count": null,
   "metadata": {},
   "outputs": [],
   "source": [
    "SEED = 42"
   ]
  },
  {
   "cell_type": "code",
   "execution_count": null,
   "metadata": {},
   "outputs": [],
   "source": [
    "class GNN_config:\n",
    "    # ----------------- architectual hyperparameters ----------------- #\n",
    "    d_model = 256\n",
    "    n_heads = 8\n",
    "    dropout = 0.1\n",
    "    n_gnn_layers = 1\n",
    "    activation = nn.ReLU()\n",
    "    res_learning = True\n",
    "    mask_flag = False # TODO\n",
    "    # ----------------- optimisation hyperparameters ----------------- #\n",
    "    random_state = SEED\n",
    "    epochs = 32\n",
    "    lr = 1e-5\n",
    "    patience = 5\n",
    "    loss = nn.MSELoss()\n",
    "    validation_loss = nn.MSELoss()\n",
    "    alpha = 0.1\n",
    "    scheduler = True\n",
    "    grad_clip = False\n",
    "    # ----------------- operation hyperparameters ----------------- #\n",
    "    nonspatial_input_dim = 2\n",
    "    # ----------------- saving hyperparameters ----------------- #\n",
    "    rootpath = home_directory + './'\n",
    "    saving_address = home_directory +  f'./results/'\n",
    "    name = f'GNN'\n",
    "\n",
    "model = GNN(GNN_config) # initialise the model\n",
    "\n",
    "# train the model (all cells except this one will print training log and evaluation at each batch)\n",
    "best_epoch = model.fit(geospatial_X_batches, non_geospatial_X_batches, y_batches, masks, geospatial_X_batches, non_geospatial_X_batches, y_batches, masks, graph)\n",
    "\n",
    "# as model automatically saves best epoch, will now load the best epoch and evaluate on test set\n",
    "model.load()\n",
    "model.eval(geospatial_X_batches, non_geospatial_X_batches, y_batches, masks, graph, best_epoch, evaluation_mode = True)\n",
    "model.eval(geospatial_X_batches, non_geospatial_X_batches, y_batches, masks, graph, best_epoch, evaluation_mode = True)"
   ]
  }
 ],
 "metadata": {
  "kernelspec": {
   "display_name": "spanalytics",
   "language": "python",
   "name": "python3"
  },
  "language_info": {
   "codemirror_mode": {
    "name": "ipython",
    "version": 3
   },
   "file_extension": ".py",
   "mimetype": "text/x-python",
   "name": "python",
   "nbconvert_exporter": "python",
   "pygments_lexer": "ipython3",
   "version": "3.11.6"
  }
 },
 "nbformat": 4,
 "nbformat_minor": 2
}
