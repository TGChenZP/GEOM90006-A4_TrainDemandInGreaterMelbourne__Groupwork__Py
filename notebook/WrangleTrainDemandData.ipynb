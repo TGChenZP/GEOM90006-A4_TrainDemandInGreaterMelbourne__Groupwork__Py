{
 "cells": [
  {
   "cell_type": "markdown",
   "metadata": {},
   "source": [
    "# Wrangle Train Demand Data"
   ]
  },
  {
   "cell_type": "code",
   "execution_count": 18,
   "metadata": {},
   "outputs": [],
   "source": [
    "import pandas as pd\n",
    "import os\n",
    "from tqdm import tqdm"
   ]
  },
  {
   "cell_type": "code",
   "execution_count": 4,
   "metadata": {},
   "outputs": [
    {
     "name": "stderr",
     "output_type": "stream",
     "text": [
      "/var/folders/tm/j_z94_gs1rncc1vngr4gz39m0000gn/T/ipykernel_8528/3370798324.py:1: DtypeWarning: Columns (5) have mixed types. Specify dtype option on import or set low_memory=False.\n",
      "  train_demand_data_2018 = pd.read_csv('../data/raw/Train_Service_Passenger_Counts_Financial_Year_2018-2019.csv')\n",
      "/var/folders/tm/j_z94_gs1rncc1vngr4gz39m0000gn/T/ipykernel_8528/3370798324.py:2: DtypeWarning: Columns (5) have mixed types. Specify dtype option on import or set low_memory=False.\n",
      "  train_demand_data_2019 = pd.read_csv('../data/raw/Train_Service_Passenger_Counts_Financial_Year_2019-2020.csv')\n",
      "/var/folders/tm/j_z94_gs1rncc1vngr4gz39m0000gn/T/ipykernel_8528/3370798324.py:3: DtypeWarning: Columns (5) have mixed types. Specify dtype option on import or set low_memory=False.\n",
      "  train_demand_data_2022 = pd.read_csv('../data/raw/Train_Service_Passenger_Counts_Financial_Year_2021-2022.csv')\n",
      "/var/folders/tm/j_z94_gs1rncc1vngr4gz39m0000gn/T/ipykernel_8528/3370798324.py:4: DtypeWarning: Columns (5) have mixed types. Specify dtype option on import or set low_memory=False.\n",
      "  train_demand_data_2023 = pd.read_csv('../data/raw/Train_Service_Passenger_Counts_Financial_Year_2022-2023.csv')\n"
     ]
    }
   ],
   "source": [
    "train_demand_data_2018 = pd.read_csv('../data/raw/Train_Service_Passenger_Counts_Financial_Year_2018-2019.csv')\n",
    "train_demand_data_2019 = pd.read_csv('../data/raw/Train_Service_Passenger_Counts_Financial_Year_2019-2020.csv')\n",
    "train_demand_data_2022 = pd.read_csv('../data/raw/Train_Service_Passenger_Counts_Financial_Year_2021-2022.csv')\n",
    "train_demand_data_2023 = pd.read_csv('../data/raw/Train_Service_Passenger_Counts_Financial_Year_2022-2023.csv')\n",
    "\n",
    "train_demand_data_precovid = pd.concat([train_demand_data_2018, train_demand_data_2019])\n",
    "train_demand_data_postcovid = pd.concat([train_demand_data_2022, train_demand_data_2023])"
   ]
  },
  {
   "cell_type": "markdown",
   "metadata": {},
   "source": [
    "### Demand information"
   ]
  },
  {
   "cell_type": "code",
   "execution_count": 23,
   "metadata": {},
   "outputs": [],
   "source": [
    "os.makedirs('../data/curated/train_demand', exist_ok=True)"
   ]
  },
  {
   "cell_type": "code",
   "execution_count": 5,
   "metadata": {},
   "outputs": [],
   "source": [
    "def clean(train_demand_data, analysis_type):\n",
    "    # clean out vline\n",
    "    train_demand_data = train_demand_data[train_demand_data['Mode'] != 'VLine']\n",
    "\n",
    "    train_demand_data['year'] = pd.to_datetime(train_demand_data['Business_Date']).dt.year\n",
    "\n",
    "    if analysis_type == 'precovid':\n",
    "        train_demand_data = train_demand_data[train_demand_data['year'] < 2020]\n",
    "    elif analysis_type == 'postcovid':\n",
    "        train_demand_data = train_demand_data[train_demand_data['year'] > 2021]\n",
    "\n",
    "    # get_datetime\n",
    "    train_demand_data['Departure_3hr_Time_Bracket'] = train_demand_data['Departure_Time_Scheduled'].apply(lambda x: 0 if '00:00:00' <= x < '03:00:00' else \\\n",
    "                                                                                                            1 if '03:00:00' <= x < '06:00:00' else \\\n",
    "                                                                                                                2 if '06:00:00' <= x < '09:00:00' else \\\n",
    "                                                                                                                    3 if '09:00:00' <= x < '12:00:00' else \\\n",
    "                                                                                                                        4 if '12:00:00' <= x < '15:00:00' else \\\n",
    "                                                                                                                            5 if '15:00:00' <= x < '18:00:00' else \\\n",
    "                                                                                                                                6 if '18:00:00' <= x < '21:00:00' else \\\n",
    "                                                                                                                                    7)\n",
    "    train_demand_data['Arrival_3hr_Time_Bracket'] = train_demand_data['Arrival_Time_Scheduled'].apply(lambda x: 0 if '00:00:00' <= x < '03:00:00' else \\\n",
    "                                                                                                            1 if '03:00:00' <= x < '06:00:00' else \\\n",
    "                                                                                                                2 if '06:00:00' <= x < '09:00:00' else \\\n",
    "                                                                                                                    3 if '09:00:00' <= x < '12:00:00' else \\\n",
    "                                                                                                                        4 if '12:00:00' <= x < '15:00:00' else \\\n",
    "                                                                                                                            5 if '15:00:00' <= x < '18:00:00' else \\\n",
    "                                                                                                                                6 if '18:00:00' <= x < '21:00:00' else \\\n",
    "                                                                                                                                    7)\n",
    "    \n",
    "    return train_demand_data"
   ]
  },
  {
   "cell_type": "code",
   "execution_count": 6,
   "metadata": {},
   "outputs": [],
   "source": [
    "def get_mean_daily_demand(train_demand_data):\n",
    "    \n",
    "    daily_deamnd = train_demand_data[['Station_Name', 'Business_Date', 'Passenger_Boardings', 'Passenger_Alightings']].groupby(['Station_Name', 'Business_Date']).agg('sum')\n",
    "\n",
    "    mean_daily_demand = daily_deamnd.groupby('Station_Name').agg('mean').sort_values(by='Passenger_Boardings', ascending=False)\n",
    "\n",
    "    return mean_daily_demand"
   ]
  },
  {
   "cell_type": "code",
   "execution_count": 7,
   "metadata": {},
   "outputs": [
    {
     "name": "stderr",
     "output_type": "stream",
     "text": [
      "/var/folders/tm/j_z94_gs1rncc1vngr4gz39m0000gn/T/ipykernel_8528/2338728675.py:5: SettingWithCopyWarning: \n",
      "A value is trying to be set on a copy of a slice from a DataFrame.\n",
      "Try using .loc[row_indexer,col_indexer] = value instead\n",
      "\n",
      "See the caveats in the documentation: https://pandas.pydata.org/pandas-docs/stable/user_guide/indexing.html#returning-a-view-versus-a-copy\n",
      "  train_demand_data['year'] = pd.to_datetime(train_demand_data['Business_Date']).dt.year\n",
      "/var/folders/tm/j_z94_gs1rncc1vngr4gz39m0000gn/T/ipykernel_8528/2338728675.py:5: SettingWithCopyWarning: \n",
      "A value is trying to be set on a copy of a slice from a DataFrame.\n",
      "Try using .loc[row_indexer,col_indexer] = value instead\n",
      "\n",
      "See the caveats in the documentation: https://pandas.pydata.org/pandas-docs/stable/user_guide/indexing.html#returning-a-view-versus-a-copy\n",
      "  train_demand_data['year'] = pd.to_datetime(train_demand_data['Business_Date']).dt.year\n"
     ]
    }
   ],
   "source": [
    "train_demand_data_pre_covid = clean(train_demand_data_precovid, 'precovid')\n",
    "mean_daily_demand_pre_covid = get_mean_daily_demand(train_demand_data_pre_covid)\n",
    "mean_daily_demand_pre_covid['Total_Demand'] = mean_daily_demand_pre_covid['Passenger_Boardings'] + mean_daily_demand_pre_covid['Passenger_Alightings']\n",
    "mean_daily_demand_pre_covid.to_csv('../data/curated/train_demand/mean_daily_trains_demand_pre_covid.csv')\n",
    "\n",
    "train_demand_data_post_covid = clean(train_demand_data_postcovid, 'postcovid')\n",
    "mean_daily_demand_post_covid = get_mean_daily_demand(train_demand_data_post_covid)\n",
    "mean_daily_demand_post_covid['Total_Demand'] = mean_daily_demand_post_covid['Passenger_Boardings'] + mean_daily_demand_post_covid['Passenger_Alightings']\n",
    "mean_daily_demand_post_covid.to_csv('../data/curated/train_demand/mean_daily_trains_demand_post_covid.csv')"
   ]
  },
  {
   "cell_type": "markdown",
   "metadata": {},
   "source": [
    "### Station information"
   ]
  },
  {
   "cell_type": "code",
   "execution_count": 20,
   "metadata": {},
   "outputs": [],
   "source": [
    "from shapely.geometry import Point\n",
    "from shapely.geometry import LineString\n",
    "import geopandas as gpd"
   ]
  },
  {
   "cell_type": "code",
   "execution_count": 24,
   "metadata": {},
   "outputs": [],
   "source": [
    "os.makedirs('../data/curated/stations', exist_ok=True)"
   ]
  },
  {
   "cell_type": "code",
   "execution_count": null,
   "metadata": {},
   "outputs": [],
   "source": [
    "stations_precovid = train_demand_data_pre_covid[['Station_Name', 'Station_Longitude', 'Station_Latitude']].groupby('Station_Name').agg('first')\n",
    "stations_postcovid = train_demand_data_post_covid[['Station_Name', 'Station_Longitude', 'Station_Latitude']].groupby('Station_Name').agg('first')"
   ]
  },
  {
   "cell_type": "code",
   "execution_count": 14,
   "metadata": {},
   "outputs": [
    {
     "data": {
      "text/html": [
       "<div>\n",
       "<style scoped>\n",
       "    .dataframe tbody tr th:only-of-type {\n",
       "        vertical-align: middle;\n",
       "    }\n",
       "\n",
       "    .dataframe tbody tr th {\n",
       "        vertical-align: top;\n",
       "    }\n",
       "\n",
       "    .dataframe thead th {\n",
       "        text-align: right;\n",
       "    }\n",
       "</style>\n",
       "<table border=\"1\" class=\"dataframe\">\n",
       "  <thead>\n",
       "    <tr style=\"text-align: right;\">\n",
       "      <th></th>\n",
       "      <th>Station_Longitude</th>\n",
       "      <th>Station_Latitude</th>\n",
       "      <th>geometry</th>\n",
       "    </tr>\n",
       "    <tr>\n",
       "      <th>Station_Name</th>\n",
       "      <th></th>\n",
       "      <th></th>\n",
       "      <th></th>\n",
       "    </tr>\n",
       "  </thead>\n",
       "  <tbody>\n",
       "    <tr>\n",
       "      <th>Aircraft</th>\n",
       "      <td>144.760809</td>\n",
       "      <td>-37.866606</td>\n",
       "      <td>POINT (144.761 -37.867)</td>\n",
       "    </tr>\n",
       "    <tr>\n",
       "      <th>Alamein</th>\n",
       "      <td>145.079656</td>\n",
       "      <td>-37.868320</td>\n",
       "      <td>POINT (145.080 -37.868)</td>\n",
       "    </tr>\n",
       "    <tr>\n",
       "      <th>Albion</th>\n",
       "      <td>144.824704</td>\n",
       "      <td>-37.777653</td>\n",
       "      <td>POINT (144.825 -37.778)</td>\n",
       "    </tr>\n",
       "    <tr>\n",
       "      <th>Alphington</th>\n",
       "      <td>145.031255</td>\n",
       "      <td>-37.778394</td>\n",
       "      <td>POINT (145.031 -37.778)</td>\n",
       "    </tr>\n",
       "    <tr>\n",
       "      <th>Altona</th>\n",
       "      <td>144.829645</td>\n",
       "      <td>-37.867148</td>\n",
       "      <td>POINT (144.830 -37.867)</td>\n",
       "    </tr>\n",
       "    <tr>\n",
       "      <th>...</th>\n",
       "      <td>...</td>\n",
       "      <td>...</td>\n",
       "      <td>...</td>\n",
       "    </tr>\n",
       "    <tr>\n",
       "      <th>Williamstown Beach</th>\n",
       "      <td>144.894484</td>\n",
       "      <td>-37.863982</td>\n",
       "      <td>POINT (144.894 -37.864)</td>\n",
       "    </tr>\n",
       "    <tr>\n",
       "      <th>Willison</th>\n",
       "      <td>145.070298</td>\n",
       "      <td>-37.835716</td>\n",
       "      <td>POINT (145.070 -37.836)</td>\n",
       "    </tr>\n",
       "    <tr>\n",
       "      <th>Windsor</th>\n",
       "      <td>144.992035</td>\n",
       "      <td>-37.856053</td>\n",
       "      <td>POINT (144.992 -37.856)</td>\n",
       "    </tr>\n",
       "    <tr>\n",
       "      <th>Yarraman</th>\n",
       "      <td>145.191600</td>\n",
       "      <td>-37.978255</td>\n",
       "      <td>POINT (145.192 -37.978)</td>\n",
       "    </tr>\n",
       "    <tr>\n",
       "      <th>Yarraville</th>\n",
       "      <td>144.889934</td>\n",
       "      <td>-37.815850</td>\n",
       "      <td>POINT (144.890 -37.816)</td>\n",
       "    </tr>\n",
       "  </tbody>\n",
       "</table>\n",
       "<p>223 rows × 3 columns</p>\n",
       "</div>"
      ],
      "text/plain": [
       "                    Station_Longitude  Station_Latitude  \\\n",
       "Station_Name                                              \n",
       "Aircraft                   144.760809        -37.866606   \n",
       "Alamein                    145.079656        -37.868320   \n",
       "Albion                     144.824704        -37.777653   \n",
       "Alphington                 145.031255        -37.778394   \n",
       "Altona                     144.829645        -37.867148   \n",
       "...                               ...               ...   \n",
       "Williamstown Beach         144.894484        -37.863982   \n",
       "Willison                   145.070298        -37.835716   \n",
       "Windsor                    144.992035        -37.856053   \n",
       "Yarraman                   145.191600        -37.978255   \n",
       "Yarraville                 144.889934        -37.815850   \n",
       "\n",
       "                                   geometry  \n",
       "Station_Name                                 \n",
       "Aircraft            POINT (144.761 -37.867)  \n",
       "Alamein             POINT (145.080 -37.868)  \n",
       "Albion              POINT (144.825 -37.778)  \n",
       "Alphington          POINT (145.031 -37.778)  \n",
       "Altona              POINT (144.830 -37.867)  \n",
       "...                                     ...  \n",
       "Williamstown Beach  POINT (144.894 -37.864)  \n",
       "Willison            POINT (145.070 -37.836)  \n",
       "Windsor             POINT (144.992 -37.856)  \n",
       "Yarraman            POINT (145.192 -37.978)  \n",
       "Yarraville          POINT (144.890 -37.816)  \n",
       "\n",
       "[223 rows x 3 columns]"
      ]
     },
     "execution_count": 14,
     "metadata": {},
     "output_type": "execute_result"
    }
   ],
   "source": [
    "stations_precovid['geometry'] = stations_precovid.apply(lambda x: Point(x['Station_Longitude'], x['Station_Latitude']), axis=1)\n",
    "stations_precovid = gpd.GeoDataFrame(stations_precovid, geometry='geometry')\n",
    "stations_precovid.set_crs(epsg=7855, inplace=True)\n",
    "\n",
    "stations_postcovid['geometry'] = stations_postcovid.apply(lambda x: Point(x['Station_Longitude'], x['Station_Latitude']), axis=1)\n",
    "stations_postcovid = gpd.GeoDataFrame(stations_postcovid, geometry='geometry')\n",
    "stations_postcovid.set_crs(epsg=7855, inplace=True)"
   ]
  },
  {
   "cell_type": "code",
   "execution_count": 16,
   "metadata": {},
   "outputs": [],
   "source": [
    "stations_precovid.to_file('../data/curated/stations/stations_precovid.gpkg', driver='GPKG')\n",
    "stations_postcovid.to_file('../data/curated/stations/stations_postcovid.gpkg', driver='GPKG')"
   ]
  },
  {
   "cell_type": "markdown",
   "metadata": {},
   "source": [
    "# Line information"
   ]
  },
  {
   "cell_type": "code",
   "execution_count": 27,
   "metadata": {},
   "outputs": [],
   "source": [
    "stations_precovid.index = stations_precovid['Station_Name']\n",
    "stations_postcovid.index = stations_postcovid['Station_Name']"
   ]
  },
  {
   "cell_type": "code",
   "execution_count": 23,
   "metadata": {},
   "outputs": [],
   "source": [
    "# get information with train lines\n",
    "train_line_stations = {}\n",
    "next_line_new_line = True\n",
    "stations = []\n",
    "with open('../data/raw/train_line.txt', 'r') as file:\n",
    "\n",
    "    for line in file:\n",
    "        if line == '\\n':\n",
    "            stations = []\n",
    "            next_line_new_line = True\n",
    "            continue\n",
    "        if next_line_new_line:\n",
    "            line_name = line.strip('\\n')\n",
    "            next_line_new_line = False\n",
    "        \n",
    "        stations.append(line.strip())\n",
    "        train_line_stations[line_name] = stations"
   ]
  },
  {
   "cell_type": "code",
   "execution_count": 32,
   "metadata": {},
   "outputs": [
    {
     "name": "stderr",
     "output_type": "stream",
     "text": [
      "100%|██████████| 17/17 [00:00<00:00, 11517.23it/s]\n",
      "100%|██████████| 30/30 [00:00<00:00, 19242.87it/s]\n",
      "100%|██████████| 20/20 [00:00<00:00, 16936.42it/s]\n",
      "100%|██████████| 26/26 [00:00<00:00, 24412.78it/s]\n",
      "100%|██████████| 31/31 [00:00<00:00, 14655.48it/s]\n"
     ]
    },
    {
     "name": "stdout",
     "output_type": "stream",
     "text": [
      "Missing initial station McKinnon\n",
      "Missing initial station Glen Huntly\n"
     ]
    },
    {
     "name": "stderr",
     "output_type": "stream",
     "text": [
      "100%|██████████| 4/4 [00:00<00:00, 8867.45it/s]\n",
      "100%|██████████| 19/19 [00:00<00:00, 16536.99it/s]\n",
      "100%|██████████| 27/27 [00:00<00:00, 17142.93it/s]\n",
      "100%|██████████| 26/26 [00:00<00:00, 24341.94it/s]\n",
      "100%|██████████| 28/28 [00:00<00:00, 15333.66it/s]\n",
      "100%|██████████| 30/30 [00:00<00:00, 19143.33it/s]\n",
      "100%|██████████| 17/17 [00:00<00:00, 21659.53it/s]\n",
      "100%|██████████| 9/9 [00:00<00:00, 21231.01it/s]\n",
      "100%|██████████| 18/18 [00:00<00:00, 21460.34it/s]\n",
      "100%|██████████| 18/18 [00:00<00:00, 22529.83it/s]\n",
      "100%|██████████| 19/19 [00:00<00:00, 21965.76it/s]\n"
     ]
    }
   ],
   "source": [
    "station1 = []\n",
    "station2 = []\n",
    "train_lines = []\n",
    "lines = []\n",
    "\n",
    "\n",
    "for line in train_line_stations:\n",
    "    \n",
    "    for i in tqdm(range(len(train_line_stations[line])-1)):\n",
    "        j = 1\n",
    "        try:\n",
    "            stations_postcovid.loc[train_line_stations[line][i], 'geometry']\n",
    "        except: \n",
    "            print('Missing initial station', train_line_stations[line][i])\n",
    "\n",
    "        while True:\n",
    "            try:\n",
    "                lines.append(LineString([stations_postcovid.loc[train_line_stations[line][i], 'geometry'], stations_postcovid.loc[train_line_stations[line][i+j], 'geometry']]))\n",
    "                station1.append(train_line_stations[line][i])\n",
    "                station2.append(train_line_stations[line][i+j])\n",
    "                train_lines.append(line)\n",
    "                break\n",
    "            except:\n",
    "                j += 1\n",
    "            if i+j >= len(train_line_stations[line]):\n",
    "                break"
   ]
  },
  {
   "cell_type": "code",
   "execution_count": 47,
   "metadata": {},
   "outputs": [],
   "source": [
    "# create a dataframe with the train lines\n",
    "station_lines = pd.DataFrame({'station1': station1, 'station2': station2, 'line': train_lines, 'geometry': lines})\n",
    "\n",
    "# deduplication\n",
    "station_lines = station_lines.drop_duplicates()\n",
    "\n",
    "station_lines = gpd.GeoDataFrame(station_lines)\n",
    "\n",
    "station_lines.to_file('../data/curated/stations/station_lines.gpkg', driver='GPKG')"
   ]
  },
  {
   "cell_type": "code",
   "execution_count": null,
   "metadata": {},
   "outputs": [],
   "source": []
  }
 ],
 "metadata": {
  "kernelspec": {
   "display_name": "spanalytics",
   "language": "python",
   "name": "python3"
  },
  "language_info": {
   "codemirror_mode": {
    "name": "ipython",
    "version": 3
   },
   "file_extension": ".py",
   "mimetype": "text/x-python",
   "name": "python",
   "nbconvert_exporter": "python",
   "pygments_lexer": "ipython3",
   "version": "3.11.6"
  }
 },
 "nbformat": 4,
 "nbformat_minor": 2
}
