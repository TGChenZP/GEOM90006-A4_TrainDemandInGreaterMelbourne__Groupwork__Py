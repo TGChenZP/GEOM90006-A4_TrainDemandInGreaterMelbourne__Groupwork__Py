{
 "cells": [
  {
   "cell_type": "code",
   "execution_count": 1,
   "metadata": {},
   "outputs": [],
   "source": [
    "import pandas as pd"
   ]
  },
  {
   "cell_type": "code",
   "execution_count": 2,
   "metadata": {},
   "outputs": [
    {
     "name": "stderr",
     "output_type": "stream",
     "text": [
      "/var/folders/tm/j_z94_gs1rncc1vngr4gz39m0000gn/T/ipykernel_3737/3370798324.py:1: DtypeWarning: Columns (5) have mixed types. Specify dtype option on import or set low_memory=False.\n",
      "  train_demand_data_2018 = pd.read_csv('../data/raw/Train_Service_Passenger_Counts_Financial_Year_2018-2019.csv')\n",
      "/var/folders/tm/j_z94_gs1rncc1vngr4gz39m0000gn/T/ipykernel_3737/3370798324.py:2: DtypeWarning: Columns (5) have mixed types. Specify dtype option on import or set low_memory=False.\n",
      "  train_demand_data_2019 = pd.read_csv('../data/raw/Train_Service_Passenger_Counts_Financial_Year_2019-2020.csv')\n",
      "/var/folders/tm/j_z94_gs1rncc1vngr4gz39m0000gn/T/ipykernel_3737/3370798324.py:3: DtypeWarning: Columns (5) have mixed types. Specify dtype option on import or set low_memory=False.\n",
      "  train_demand_data_2022 = pd.read_csv('../data/raw/Train_Service_Passenger_Counts_Financial_Year_2021-2022.csv')\n",
      "/var/folders/tm/j_z94_gs1rncc1vngr4gz39m0000gn/T/ipykernel_3737/3370798324.py:4: DtypeWarning: Columns (5) have mixed types. Specify dtype option on import or set low_memory=False.\n",
      "  train_demand_data_2023 = pd.read_csv('../data/raw/Train_Service_Passenger_Counts_Financial_Year_2022-2023.csv')\n"
     ]
    }
   ],
   "source": [
    "train_demand_data_2018 = pd.read_csv('../data/raw/Train_Service_Passenger_Counts_Financial_Year_2018-2019.csv')\n",
    "train_demand_data_2019 = pd.read_csv('../data/raw/Train_Service_Passenger_Counts_Financial_Year_2019-2020.csv')\n",
    "train_demand_data_2022 = pd.read_csv('../data/raw/Train_Service_Passenger_Counts_Financial_Year_2021-2022.csv')\n",
    "train_demand_data_2023 = pd.read_csv('../data/raw/Train_Service_Passenger_Counts_Financial_Year_2022-2023.csv')\n",
    "\n",
    "train_demand_data_precovid = pd.concat([train_demand_data_2018, train_demand_data_2019])\n",
    "train_demand_data_postcovid = pd.concat([train_demand_data_2022, train_demand_data_2023])"
   ]
  },
  {
   "cell_type": "code",
   "execution_count": 3,
   "metadata": {},
   "outputs": [],
   "source": [
    "def clean(train_demand_data, analysis_type):\n",
    "    # clean out vline\n",
    "    train_demand_data = train_demand_data[train_demand_data['Mode'] != 'VLine']\n",
    "\n",
    "    train_demand_data['year'] = pd.to_datetime(train_demand_data['Business_Date']).dt.year\n",
    "\n",
    "    if analysis_type == 'precovid':\n",
    "        train_demand_data = train_demand_data[train_demand_data['year'] < 2020]\n",
    "    elif analysis_type == 'postcovid':\n",
    "        train_demand_data = train_demand_data[train_demand_data['year'] > 2021]\n",
    "\n",
    "    # get_datetime\n",
    "    train_demand_data['Departure_3hr_Time_Bracket'] = train_demand_data['Departure_Time_Scheduled'].apply(lambda x: 0 if '00:00:00' <= x < '03:00:00' else \\\n",
    "                                                                                                            1 if '03:00:00' <= x < '06:00:00' else \\\n",
    "                                                                                                                2 if '06:00:00' <= x < '09:00:00' else \\\n",
    "                                                                                                                    3 if '09:00:00' <= x < '12:00:00' else \\\n",
    "                                                                                                                        4 if '12:00:00' <= x < '15:00:00' else \\\n",
    "                                                                                                                            5 if '15:00:00' <= x < '18:00:00' else \\\n",
    "                                                                                                                                6 if '18:00:00' <= x < '21:00:00' else \\\n",
    "                                                                                                                                    7)\n",
    "    train_demand_data['Arrival_3hr_Time_Bracket'] = train_demand_data['Arrival_Time_Scheduled'].apply(lambda x: 0 if '00:00:00' <= x < '03:00:00' else \\\n",
    "                                                                                                            1 if '03:00:00' <= x < '06:00:00' else \\\n",
    "                                                                                                                2 if '06:00:00' <= x < '09:00:00' else \\\n",
    "                                                                                                                    3 if '09:00:00' <= x < '12:00:00' else \\\n",
    "                                                                                                                        4 if '12:00:00' <= x < '15:00:00' else \\\n",
    "                                                                                                                            5 if '15:00:00' <= x < '18:00:00' else \\\n",
    "                                                                                                                                6 if '18:00:00' <= x < '21:00:00' else \\\n",
    "                                                                                                                                    7)\n",
    "    \n",
    "    return train_demand_data"
   ]
  },
  {
   "cell_type": "code",
   "execution_count": 4,
   "metadata": {},
   "outputs": [],
   "source": [
    "def get_mean_daily_demand(train_demand_data):\n",
    "    \n",
    "    daily_deamnd = train_demand_data[['Station_Name', 'Business_Date', 'Passenger_Boardings', 'Passenger_Alightings']].groupby(['Station_Name', 'Business_Date']).agg('sum')\n",
    "\n",
    "    mean_daily_demand = daily_deamnd.groupby('Station_Name').agg('mean').sort_values(by='Passenger_Boardings', ascending=False)\n",
    "\n",
    "    return mean_daily_demand"
   ]
  },
  {
   "cell_type": "code",
   "execution_count": 5,
   "metadata": {},
   "outputs": [
    {
     "name": "stderr",
     "output_type": "stream",
     "text": [
      "/var/folders/tm/j_z94_gs1rncc1vngr4gz39m0000gn/T/ipykernel_3737/2338728675.py:5: SettingWithCopyWarning: \n",
      "A value is trying to be set on a copy of a slice from a DataFrame.\n",
      "Try using .loc[row_indexer,col_indexer] = value instead\n",
      "\n",
      "See the caveats in the documentation: https://pandas.pydata.org/pandas-docs/stable/user_guide/indexing.html#returning-a-view-versus-a-copy\n",
      "  train_demand_data['year'] = pd.to_datetime(train_demand_data['Business_Date']).dt.year\n",
      "/var/folders/tm/j_z94_gs1rncc1vngr4gz39m0000gn/T/ipykernel_3737/2338728675.py:5: SettingWithCopyWarning: \n",
      "A value is trying to be set on a copy of a slice from a DataFrame.\n",
      "Try using .loc[row_indexer,col_indexer] = value instead\n",
      "\n",
      "See the caveats in the documentation: https://pandas.pydata.org/pandas-docs/stable/user_guide/indexing.html#returning-a-view-versus-a-copy\n",
      "  train_demand_data['year'] = pd.to_datetime(train_demand_data['Business_Date']).dt.year\n"
     ]
    }
   ],
   "source": [
    "train_demand_data_pre_covid = clean(train_demand_data_precovid, 'precovid')\n",
    "mean_daily_demand_pre_covid = get_mean_daily_demand(train_demand_data_pre_covid)\n",
    "mean_daily_demand_pre_covid['Total_Demand'] = mean_daily_demand_pre_covid['Passenger_Boardings'] + mean_daily_demand_pre_covid['Passenger_Alightings']\n",
    "mean_daily_demand_pre_covid.to_csv('../data/curated/mean_daily_trains_demand_pre_covid.csv')\n",
    "\n",
    "train_demand_data_post_covid = clean(train_demand_data_postcovid, 'postcovid')\n",
    "mean_daily_demand_post_covid = get_mean_daily_demand(train_demand_data_post_covid)\n",
    "mean_daily_demand_post_covid['Total_Demand'] = mean_daily_demand_post_covid['Passenger_Boardings'] + mean_daily_demand_post_covid['Passenger_Alightings']\n",
    "mean_daily_demand_post_covid.to_csv('../data/curated/mean_daily_trains_demand_post_covid.csv')"
   ]
  },
  {
   "cell_type": "markdown",
   "metadata": {},
   "source": [
    "- get station and line information"
   ]
  },
  {
   "cell_type": "code",
   "execution_count": 11,
   "metadata": {},
   "outputs": [
    {
     "data": {
      "text/plain": [
       "Index(['Unnamed: 0', 'Business_Date', 'Day_of_Week', 'Day_Type', 'Mode',\n",
       "       'Train_Number', 'Line_Name', 'Group', 'Direction', 'Origin_Station',\n",
       "       'Destination_Station', 'Station_Name', 'Station_Latitude',\n",
       "       'Station_Longitude', 'Station_Chainage', 'Stop_Sequence_Number',\n",
       "       'Arrival_Time_Scheduled', 'Departure_Time_Scheduled',\n",
       "       'Passenger_Boardings', 'Passenger_Alightings', 'Passenger_Arrival_Load',\n",
       "       'Passenger_Departure_Load', 'year', 'Departure_3hr_Time_Bracket',\n",
       "       'Arrival_3hr_Time_Bracket'],\n",
       "      dtype='object')"
      ]
     },
     "execution_count": 11,
     "metadata": {},
     "output_type": "execute_result"
    }
   ],
   "source": [
    "train_demand_data_pre_covid.columns"
   ]
  },
  {
   "cell_type": "code",
   "execution_count": 22,
   "metadata": {},
   "outputs": [
    {
     "data": {
      "text/plain": [
       "array(['Sunbury', 'Diggers Rest', 'Stony Point', 'Crib Point', 'Morradoo',\n",
       "       'Bittern', 'Hastings', 'Tyabb', 'Somerville', 'Baxter',\n",
       "       'Glen Iris', 'Leawarra', 'Darling', 'East Malvern', 'Holmesglen',\n",
       "       'Jordanville', 'Flagstaff', 'Melbourne Central', 'Parliament',\n",
       "       'Belgrave', 'Tecoma', 'Upwey', 'Alamein', 'Ashburton', 'Burwood',\n",
       "       'Hartwell', 'Willison', 'Riversdale', 'Camberwell',\n",
       "       'Flinders Street', 'Frankston', 'Kananook', 'Seaford', 'Carrum',\n",
       "       'Bonbeach', 'Chelsea', 'Edithvale', 'Aspendale', 'Mordialloc',\n",
       "       'Parkdale', 'Mentone', 'Cheltenham', 'Upper Ferntree Gully',\n",
       "       'Ferntree Gully', 'Boronia', 'Bayswater', 'Heathmont', 'Highett',\n",
       "       'Glen Waverley', 'Syndal', 'Mount Waverley', 'Lilydale',\n",
       "       'Mooroolbark', 'Croydon', 'Ringwood East', 'Pakenham', 'Officer',\n",
       "       'Beaconsfield', 'Berwick', 'Narre Warren', 'Hallam', 'Cranbourne',\n",
       "       'Merinda Park', 'Dandenong', 'Yarraman', 'Noble Park',\n",
       "       'Sandown Park', 'East Camberwell', 'Canterbury', 'Chatham',\n",
       "       'Surrey Hills', 'Mont Albert', 'Laburnum', 'Blackburn',\n",
       "       'Nunawading', 'Mitcham', 'Heatherdale', 'Ringwood', 'Auburn',\n",
       "       'Glenferrie', 'Hawthorn', 'Burnley', 'East Richmond', 'Richmond',\n",
       "       'Heyington', 'Kooyong', 'Tooronga', 'Gardiner', 'Springvale',\n",
       "       'Westall', 'Clayton', 'Huntingdale', 'Oakleigh', 'Hughesdale',\n",
       "       'Murrumbeena', 'Carnegie', 'Werribee', 'Hoppers Crossing',\n",
       "       'Laverton', 'Aircraft', 'Westona', 'Altona', 'Seaholme',\n",
       "       'Westgarth', 'Dennis', 'Fairfield', 'Alphington', 'Darebin',\n",
       "       'Ivanhoe', 'Eaglemont', 'Heidelberg', 'Rosanna', 'Moorabbin',\n",
       "       'Patterson', 'Bentleigh', 'Mckinnon', 'Ormond', 'Glenhuntly',\n",
       "       'Caulfield', 'Malvern', 'Armadale', 'Toorak', 'Hawksburn',\n",
       "       'Sandringham', 'Hampton', 'Brighton Beach', 'Middle Brighton',\n",
       "       'North Brighton', 'Gardenvale', 'Elsternwick', 'Ripponlea',\n",
       "       'Balaclava', 'Windsor', 'Prahran', 'South Yarra', 'Upfield',\n",
       "       'Gowrie', 'Fawkner', 'Merlynston', 'Batman', 'Coburg', 'Moreland',\n",
       "       'Anstey', 'Brunswick', 'Jewell', 'Royal Park', 'Flemington Bridge',\n",
       "       'Macaulay', 'North Melbourne', 'Clifton Hill', 'Victoria Park',\n",
       "       'Collingwood', 'North Richmond', 'West Richmond', 'Jolimont',\n",
       "       'Macleod', 'Watsonia', 'Greensborough', 'Montmorency', 'Eltham',\n",
       "       'Diamond Creek', 'Wattle Glen', 'Hurstbridge', 'Williamstown',\n",
       "       'Williamstown Beach', 'North Williamstown', 'Newport', 'Spotswood',\n",
       "       'Yarraville', 'Seddon', 'Watergardens', 'Keilor Plains',\n",
       "       'St Albans', 'Ginifer', 'Albion', 'Epping', 'Lalor', 'Thomastown',\n",
       "       'Keon Park', 'Ruthven', 'Reservoir', 'Regent', 'Preston', 'Bell',\n",
       "       'Thornbury', 'Croxton', 'Northcote', 'Merri', 'Rushall',\n",
       "       'Sunshine', 'Tottenham', 'West Footscray', 'Middle Footscray',\n",
       "       'Footscray', 'South Kensington', 'Flemington Racecourse',\n",
       "       'Showgrounds', 'Broadmeadows', 'Jacana', 'Glenroy', 'Oak Park',\n",
       "       'Pascoe Vale', 'Strathmore', 'Glenbervie', 'Essendon',\n",
       "       'Moonee Ponds', 'Ascot Vale', 'Newmarket', 'Kensington',\n",
       "       'Box Hill', 'Southern Cross', 'Roxburgh Park', 'Craigieburn',\n",
       "       'Coolaroo', 'Lynbrook', 'Cardinia Road', 'South Morang',\n",
       "       'Williams Landing', 'Southland', 'Middle Gorge', 'Hawkstowe',\n",
       "       'Mernda', 'Union'], dtype=object)"
      ]
     },
     "execution_count": 22,
     "metadata": {},
     "output_type": "execute_result"
    }
   ],
   "source": [
    "train_demand_data_post_covid['Station_Name'].unique()"
   ]
  },
  {
   "cell_type": "code",
   "execution_count": 21,
   "metadata": {},
   "outputs": [
    {
     "data": {
      "text/plain": [
       "False"
      ]
     },
     "execution_count": 21,
     "metadata": {},
     "output_type": "execute_result"
    }
   ],
   "source": [
    "'Flemington' in train_demand_data_post_covid['Station_Name'].unique()"
   ]
  },
  {
   "cell_type": "code",
   "execution_count": 13,
   "metadata": {},
   "outputs": [
    {
     "data": {
      "text/html": [
       "<div>\n",
       "<style scoped>\n",
       "    .dataframe tbody tr th:only-of-type {\n",
       "        vertical-align: middle;\n",
       "    }\n",
       "\n",
       "    .dataframe tbody tr th {\n",
       "        vertical-align: top;\n",
       "    }\n",
       "\n",
       "    .dataframe thead th {\n",
       "        text-align: right;\n",
       "    }\n",
       "</style>\n",
       "<table border=\"1\" class=\"dataframe\">\n",
       "  <thead>\n",
       "    <tr style=\"text-align: right;\">\n",
       "      <th></th>\n",
       "      <th>Station_Longitude</th>\n",
       "      <th>Station_Latitude</th>\n",
       "    </tr>\n",
       "    <tr>\n",
       "      <th>Station_Name</th>\n",
       "      <th></th>\n",
       "      <th></th>\n",
       "    </tr>\n",
       "  </thead>\n",
       "  <tbody>\n",
       "    <tr>\n",
       "      <th>Aircraft</th>\n",
       "      <td>144.760809</td>\n",
       "      <td>-37.866606</td>\n",
       "    </tr>\n",
       "    <tr>\n",
       "      <th>Alamein</th>\n",
       "      <td>145.079656</td>\n",
       "      <td>-37.868320</td>\n",
       "    </tr>\n",
       "    <tr>\n",
       "      <th>Albion</th>\n",
       "      <td>144.824704</td>\n",
       "      <td>-37.777653</td>\n",
       "    </tr>\n",
       "    <tr>\n",
       "      <th>Alphington</th>\n",
       "      <td>145.031255</td>\n",
       "      <td>-37.778394</td>\n",
       "    </tr>\n",
       "    <tr>\n",
       "      <th>Altona</th>\n",
       "      <td>144.829645</td>\n",
       "      <td>-37.867148</td>\n",
       "    </tr>\n",
       "    <tr>\n",
       "      <th>...</th>\n",
       "      <td>...</td>\n",
       "      <td>...</td>\n",
       "    </tr>\n",
       "    <tr>\n",
       "      <th>Williamstown Beach</th>\n",
       "      <td>144.894484</td>\n",
       "      <td>-37.863982</td>\n",
       "    </tr>\n",
       "    <tr>\n",
       "      <th>Willison</th>\n",
       "      <td>145.070298</td>\n",
       "      <td>-37.835716</td>\n",
       "    </tr>\n",
       "    <tr>\n",
       "      <th>Windsor</th>\n",
       "      <td>144.992035</td>\n",
       "      <td>-37.856053</td>\n",
       "    </tr>\n",
       "    <tr>\n",
       "      <th>Yarraman</th>\n",
       "      <td>145.191600</td>\n",
       "      <td>-37.978255</td>\n",
       "    </tr>\n",
       "    <tr>\n",
       "      <th>Yarraville</th>\n",
       "      <td>144.889934</td>\n",
       "      <td>-37.815850</td>\n",
       "    </tr>\n",
       "  </tbody>\n",
       "</table>\n",
       "<p>222 rows × 2 columns</p>\n",
       "</div>"
      ],
      "text/plain": [
       "                    Station_Longitude  Station_Latitude\n",
       "Station_Name                                           \n",
       "Aircraft                   144.760809        -37.866606\n",
       "Alamein                    145.079656        -37.868320\n",
       "Albion                     144.824704        -37.777653\n",
       "Alphington                 145.031255        -37.778394\n",
       "Altona                     144.829645        -37.867148\n",
       "...                               ...               ...\n",
       "Williamstown Beach         144.894484        -37.863982\n",
       "Willison                   145.070298        -37.835716\n",
       "Windsor                    144.992035        -37.856053\n",
       "Yarraman                   145.191600        -37.978255\n",
       "Yarraville                 144.889934        -37.815850\n",
       "\n",
       "[222 rows x 2 columns]"
      ]
     },
     "execution_count": 13,
     "metadata": {},
     "output_type": "execute_result"
    }
   ],
   "source": [
    "train_demand_data_pre_covid[['Station_Name', 'Station_Longitude', 'Station_Latitude']].groupby('Station_Name').agg('first')"
   ]
  },
  {
   "cell_type": "code",
   "execution_count": 15,
   "metadata": {},
   "outputs": [
    {
     "data": {
      "text/html": [
       "<div>\n",
       "<style scoped>\n",
       "    .dataframe tbody tr th:only-of-type {\n",
       "        vertical-align: middle;\n",
       "    }\n",
       "\n",
       "    .dataframe tbody tr th {\n",
       "        vertical-align: top;\n",
       "    }\n",
       "\n",
       "    .dataframe thead th {\n",
       "        text-align: right;\n",
       "    }\n",
       "</style>\n",
       "<table border=\"1\" class=\"dataframe\">\n",
       "  <thead>\n",
       "    <tr style=\"text-align: right;\">\n",
       "      <th></th>\n",
       "      <th>Station_Longitude</th>\n",
       "      <th>Station_Latitude</th>\n",
       "    </tr>\n",
       "    <tr>\n",
       "      <th>Station_Name</th>\n",
       "      <th></th>\n",
       "      <th></th>\n",
       "    </tr>\n",
       "  </thead>\n",
       "  <tbody>\n",
       "    <tr>\n",
       "      <th>Aircraft</th>\n",
       "      <td>144.760809</td>\n",
       "      <td>-37.866606</td>\n",
       "    </tr>\n",
       "    <tr>\n",
       "      <th>Alamein</th>\n",
       "      <td>145.079656</td>\n",
       "      <td>-37.868320</td>\n",
       "    </tr>\n",
       "    <tr>\n",
       "      <th>Albion</th>\n",
       "      <td>144.824704</td>\n",
       "      <td>-37.777653</td>\n",
       "    </tr>\n",
       "    <tr>\n",
       "      <th>Alphington</th>\n",
       "      <td>145.031255</td>\n",
       "      <td>-37.778394</td>\n",
       "    </tr>\n",
       "    <tr>\n",
       "      <th>Altona</th>\n",
       "      <td>144.829645</td>\n",
       "      <td>-37.867148</td>\n",
       "    </tr>\n",
       "    <tr>\n",
       "      <th>...</th>\n",
       "      <td>...</td>\n",
       "      <td>...</td>\n",
       "    </tr>\n",
       "    <tr>\n",
       "      <th>Williamstown Beach</th>\n",
       "      <td>144.894484</td>\n",
       "      <td>-37.863982</td>\n",
       "    </tr>\n",
       "    <tr>\n",
       "      <th>Willison</th>\n",
       "      <td>145.070298</td>\n",
       "      <td>-37.835716</td>\n",
       "    </tr>\n",
       "    <tr>\n",
       "      <th>Windsor</th>\n",
       "      <td>144.992035</td>\n",
       "      <td>-37.856053</td>\n",
       "    </tr>\n",
       "    <tr>\n",
       "      <th>Yarraman</th>\n",
       "      <td>145.191600</td>\n",
       "      <td>-37.978255</td>\n",
       "    </tr>\n",
       "    <tr>\n",
       "      <th>Yarraville</th>\n",
       "      <td>144.889934</td>\n",
       "      <td>-37.815850</td>\n",
       "    </tr>\n",
       "  </tbody>\n",
       "</table>\n",
       "<p>223 rows × 2 columns</p>\n",
       "</div>"
      ],
      "text/plain": [
       "                    Station_Longitude  Station_Latitude\n",
       "Station_Name                                           \n",
       "Aircraft                   144.760809        -37.866606\n",
       "Alamein                    145.079656        -37.868320\n",
       "Albion                     144.824704        -37.777653\n",
       "Alphington                 145.031255        -37.778394\n",
       "Altona                     144.829645        -37.867148\n",
       "...                               ...               ...\n",
       "Williamstown Beach         144.894484        -37.863982\n",
       "Willison                   145.070298        -37.835716\n",
       "Windsor                    144.992035        -37.856053\n",
       "Yarraman                   145.191600        -37.978255\n",
       "Yarraville                 144.889934        -37.815850\n",
       "\n",
       "[223 rows x 2 columns]"
      ]
     },
     "execution_count": 15,
     "metadata": {},
     "output_type": "execute_result"
    }
   ],
   "source": [
    "train_demand_data_post_covid[['Station_Name', 'Station_Longitude', 'Station_Latitude']].groupby('Station_Name').agg('first')"
   ]
  },
  {
   "cell_type": "code",
   "execution_count": 6,
   "metadata": {},
   "outputs": [],
   "source": [
    "import geopandas as gpd"
   ]
  },
  {
   "cell_type": "code",
   "execution_count": 7,
   "metadata": {},
   "outputs": [],
   "source": [
    "train_stops = gpd.read_file('../data/raw/Metro Stops/PTV/PTV_METRO_TRAIN_STATION.shp')"
   ]
  },
  {
   "cell_type": "code",
   "execution_count": 8,
   "metadata": {},
   "outputs": [],
   "source": [
    "train_stops = gpd.read_file('../data/raw/Metro Stops/EXTRACT_POLYGON.shp')"
   ]
  },
  {
   "cell_type": "code",
   "execution_count": 9,
   "metadata": {},
   "outputs": [
    {
     "data": {
      "text/html": [
       "<div>\n",
       "<style scoped>\n",
       "    .dataframe tbody tr th:only-of-type {\n",
       "        vertical-align: middle;\n",
       "    }\n",
       "\n",
       "    .dataframe tbody tr th {\n",
       "        vertical-align: top;\n",
       "    }\n",
       "\n",
       "    .dataframe thead th {\n",
       "        text-align: right;\n",
       "    }\n",
       "</style>\n",
       "<table border=\"1\" class=\"dataframe\">\n",
       "  <thead>\n",
       "    <tr style=\"text-align: right;\">\n",
       "      <th></th>\n",
       "      <th>d_y_n_ID</th>\n",
       "      <th>geometry</th>\n",
       "    </tr>\n",
       "  </thead>\n",
       "  <tbody>\n",
       "    <tr>\n",
       "      <th>0</th>\n",
       "      <td>None</td>\n",
       "      <td>POLYGON ((280988.665 5798001.482, 280988.670 5...</td>\n",
       "    </tr>\n",
       "  </tbody>\n",
       "</table>\n",
       "</div>"
      ],
      "text/plain": [
       "  d_y_n_ID                                           geometry\n",
       "0     None  POLYGON ((280988.665 5798001.482, 280988.670 5..."
      ]
     },
     "execution_count": 9,
     "metadata": {},
     "output_type": "execute_result"
    }
   ],
   "source": [
    "train_stops"
   ]
  },
  {
   "cell_type": "code",
   "execution_count": null,
   "metadata": {},
   "outputs": [],
   "source": []
  }
 ],
 "metadata": {
  "language_info": {
   "name": "python"
  }
 },
 "nbformat": 4,
 "nbformat_minor": 2
}
