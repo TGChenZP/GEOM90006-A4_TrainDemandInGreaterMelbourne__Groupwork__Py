{
 "cells": [
  {
   "cell_type": "code",
   "execution_count": 1,
   "metadata": {},
   "outputs": [],
   "source": [
    "import pandas as pd"
   ]
  },
  {
   "cell_type": "code",
   "execution_count": 2,
   "metadata": {},
   "outputs": [],
   "source": [
    "train_demand_data_2018 = pd.read_csv('../data/raw/Train_Service_Passenger_Counts_Financial_Year_2018-2019.csv')\n",
    "train_demand_data_2019 = pd.read_csv('../data/raw/Train_Service_Passenger_Counts_Financial_Year_2019-2020.csv')\n",
    "train_demand_data_2022 = pd.read_csv('../data/raw/Train_Service_Passenger_Counts_Financial_Year_2021-2022.csv')\n",
    "train_demand_data_2023 = pd.read_csv('../data/raw/Train_Service_Passenger_Counts_Financial_Year_2022-2023.csv')\n",
    "\n",
    "train_demand_data_precovid = pd.concat([train_demand_data_2018, train_demand_data_2019])\n",
    "train_demand_data_postcovid = pd.concat([train_demand_data_2022, train_demand_data_2023])"
   ]
  },
  {
   "cell_type": "code",
   "execution_count": null,
   "metadata": {},
   "outputs": [],
   "source": [
    "def clean(train_demand_data, analysis_type):\n",
    "    # clean out vline\n",
    "    train_demand_data = train_demand_data[train_demand_data['Mode'] != 'VLine']\n",
    "\n",
    "    train_demand_data['year'] = pd.to_datetime(train_demand_data['Business_Date']).dt.year\n",
    "\n",
    "    if analysis_type == 'precovid':\n",
    "        train_demand_data = train_demand_data[train_demand_data['year'] < 2020]\n",
    "    elif analysis_type == 'postcovid':\n",
    "        train_demand_data = train_demand_data[train_demand_data['year'] > 2021]\n",
    "\n",
    "    # get_datetime\n",
    "    train_demand_data['Departure_3hr_Time_Bracket'] = train_demand_data['Departure_Time_Scheduled'].apply(lambda x: 0 if '00:00:00' <= x < '03:00:00' else \\\n",
    "                                                                                                            1 if '03:00:00' <= x < '06:00:00' else \\\n",
    "                                                                                                                2 if '06:00:00' <= x < '09:00:00' else \\\n",
    "                                                                                                                    3 if '09:00:00' <= x < '12:00:00' else \\\n",
    "                                                                                                                        4 if '12:00:00' <= x < '15:00:00' else \\\n",
    "                                                                                                                            5 if '15:00:00' <= x < '18:00:00' else \\\n",
    "                                                                                                                                6 if '18:00:00' <= x < '21:00:00' else \\\n",
    "                                                                                                                                    7)\n",
    "    train_demand_data['Arrival_3hr_Time_Bracket'] = train_demand_data['Arrival_Time_Scheduled'].apply(lambda x: 0 if '00:00:00' <= x < '03:00:00' else \\\n",
    "                                                                                                            1 if '03:00:00' <= x < '06:00:00' else \\\n",
    "                                                                                                                2 if '06:00:00' <= x < '09:00:00' else \\\n",
    "                                                                                                                    3 if '09:00:00' <= x < '12:00:00' else \\\n",
    "                                                                                                                        4 if '12:00:00' <= x < '15:00:00' else \\\n",
    "                                                                                                                            5 if '15:00:00' <= x < '18:00:00' else \\\n",
    "                                                                                                                                6 if '18:00:00' <= x < '21:00:00' else \\\n",
    "                                                                                                                                    7)\n",
    "    \n",
    "    return train_demand_data"
   ]
  },
  {
   "cell_type": "code",
   "execution_count": null,
   "metadata": {},
   "outputs": [],
   "source": [
    "def get_mean_daily_demand(train_demand_data):\n",
    "    \n",
    "    daily_deamnd = train_demand_data[['Station_Name', 'Business_Date', 'Passenger_Boardings', 'Passenger_Alightings']].groupby(['Station_Name', 'Business_Date']).agg('sum')\n",
    "\n",
    "    mean_daily_demand = daily_deamnd.groupby('Station_Name').agg('mean').sort_values(by='Passenger_Boardings', ascending=False)\n",
    "\n",
    "    return mean_daily_demand"
   ]
  },
  {
   "cell_type": "code",
   "execution_count": null,
   "metadata": {},
   "outputs": [
    {
     "name": "stderr",
     "output_type": "stream",
     "text": [
      "/var/folders/tm/j_z94_gs1rncc1vngr4gz39m0000gn/T/ipykernel_3485/834488481.py:13: SettingWithCopyWarning: \n",
      "A value is trying to be set on a copy of a slice from a DataFrame.\n",
      "Try using .loc[row_indexer,col_indexer] = value instead\n",
      "\n",
      "See the caveats in the documentation: https://pandas.pydata.org/pandas-docs/stable/user_guide/indexing.html#returning-a-view-versus-a-copy\n",
      "  train_demand_data['Departure_3hr_Time_Bracket'] = train_demand_data['Departure_Time_Scheduled'].apply(lambda x: 0 if '00:00:00' <= x < '03:00:00' else \\\n",
      "/var/folders/tm/j_z94_gs1rncc1vngr4gz39m0000gn/T/ipykernel_3485/834488481.py:21: SettingWithCopyWarning: \n",
      "A value is trying to be set on a copy of a slice from a DataFrame.\n",
      "Try using .loc[row_indexer,col_indexer] = value instead\n",
      "\n",
      "See the caveats in the documentation: https://pandas.pydata.org/pandas-docs/stable/user_guide/indexing.html#returning-a-view-versus-a-copy\n",
      "  train_demand_data['Arrival_3hr_Time_Bracket'] = train_demand_data['Arrival_Time_Scheduled'].apply(lambda x: 0 if '00:00:00' <= x < '03:00:00' else \\\n",
      "/var/folders/tm/j_z94_gs1rncc1vngr4gz39m0000gn/T/ipykernel_3485/834488481.py:13: SettingWithCopyWarning: \n",
      "A value is trying to be set on a copy of a slice from a DataFrame.\n",
      "Try using .loc[row_indexer,col_indexer] = value instead\n",
      "\n",
      "See the caveats in the documentation: https://pandas.pydata.org/pandas-docs/stable/user_guide/indexing.html#returning-a-view-versus-a-copy\n",
      "  train_demand_data['Departure_3hr_Time_Bracket'] = train_demand_data['Departure_Time_Scheduled'].apply(lambda x: 0 if '00:00:00' <= x < '03:00:00' else \\\n",
      "/var/folders/tm/j_z94_gs1rncc1vngr4gz39m0000gn/T/ipykernel_3485/834488481.py:21: SettingWithCopyWarning: \n",
      "A value is trying to be set on a copy of a slice from a DataFrame.\n",
      "Try using .loc[row_indexer,col_indexer] = value instead\n",
      "\n",
      "See the caveats in the documentation: https://pandas.pydata.org/pandas-docs/stable/user_guide/indexing.html#returning-a-view-versus-a-copy\n",
      "  train_demand_data['Arrival_3hr_Time_Bracket'] = train_demand_data['Arrival_Time_Scheduled'].apply(lambda x: 0 if '00:00:00' <= x < '03:00:00' else \\\n"
     ]
    }
   ],
   "source": [
    "train_demand_data_pre_covid = clean(train_demand_data_precovid, 'precovid')\n",
    "mean_daily_demand_pre_covid = get_mean_daily_demand(train_demand_data_pre_covid)\n",
    "mean_daily_demand_pre_covid['Total_Demand'] = mean_daily_demand_pre_covid['Passenger_Boardings'] + mean_daily_demand_pre_covid['Passenger_Alightings']\n",
    "mean_daily_demand_pre_covid.to_csv('../data/curated/mean_daily_trains_demand_pre_covid.csv')\n",
    "\n",
    "train_demand_data_post_covid = clean(train_demand_data_postcovid, 'postcovid')\n",
    "mean_daily_demand_post_covid = get_mean_daily_demand(train_demand_data_post_covid)\n",
    "mean_daily_demand_post_covid['Total_Demand'] = mean_daily_demand_post_covid['Passenger_Boardings'] + mean_daily_demand_post_covid['Passenger_Alightings']\n",
    "mean_daily_demand_post_covid.to_csv('../data/curated/mean_daily_trains_demand_post_covid.csv')"
   ]
  },
  {
   "cell_type": "markdown",
   "metadata": {},
   "source": [
    "- get station and line information"
   ]
  },
  {
   "cell_type": "code",
   "execution_count": null,
   "metadata": {},
   "outputs": [],
   "source": [
    "import geopandas as gpd"
   ]
  },
  {
   "cell_type": "code",
   "execution_count": null,
   "metadata": {},
   "outputs": [],
   "source": [
    "train_stops = gpd.read_file('../data/raw/Metro Stops/PTV/PTV_METRO_TRAIN_STATION.shp')"
   ]
  },
  {
   "cell_type": "code",
   "execution_count": null,
   "metadata": {},
   "outputs": [],
   "source": [
    "train_stops = gpd.read_file('../data/raw/Metro Stops/EXTRACT_POLYGON.shp')"
   ]
  },
  {
   "cell_type": "code",
   "execution_count": null,
   "metadata": {},
   "outputs": [
    {
     "data": {
      "text/html": [
       "<div>\n",
       "<style scoped>\n",
       "    .dataframe tbody tr th:only-of-type {\n",
       "        vertical-align: middle;\n",
       "    }\n",
       "\n",
       "    .dataframe tbody tr th {\n",
       "        vertical-align: top;\n",
       "    }\n",
       "\n",
       "    .dataframe thead th {\n",
       "        text-align: right;\n",
       "    }\n",
       "</style>\n",
       "<table border=\"1\" class=\"dataframe\">\n",
       "  <thead>\n",
       "    <tr style=\"text-align: right;\">\n",
       "      <th></th>\n",
       "      <th>d_y_n_ID</th>\n",
       "      <th>geometry</th>\n",
       "    </tr>\n",
       "  </thead>\n",
       "  <tbody>\n",
       "    <tr>\n",
       "      <th>0</th>\n",
       "      <td>None</td>\n",
       "      <td>POLYGON ((280988.665 5798001.482, 280988.670 5...</td>\n",
       "    </tr>\n",
       "  </tbody>\n",
       "</table>\n",
       "</div>"
      ],
      "text/plain": [
       "  d_y_n_ID                                           geometry\n",
       "0     None  POLYGON ((280988.665 5798001.482, 280988.670 5..."
      ]
     },
     "execution_count": 14,
     "metadata": {},
     "output_type": "execute_result"
    }
   ],
   "source": [
    "train_stops"
   ]
  },
  {
   "cell_type": "code",
   "execution_count": null,
   "metadata": {},
   "outputs": [],
   "source": []
  }
 ],
 "metadata": {
  "language_info": {
   "name": "python"
  }
 },
 "nbformat": 4,
 "nbformat_minor": 2
}
