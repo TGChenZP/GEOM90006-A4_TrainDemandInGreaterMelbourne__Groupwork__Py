{
 "cells": [
  {
   "cell_type": "code",
   "execution_count": 1,
   "metadata": {},
   "outputs": [],
   "source": [
    "import pandas as pd\n",
    "import numpy as np\n",
    "import os\n",
    "from tqdm import tqdm\n",
    "from shapely.geometry import Point\n",
    "import geopandas as gpd\n",
    "import matplotlib.pyplot as plt"
   ]
  },
  {
   "cell_type": "markdown",
   "metadata": {},
   "source": [
    "---\n",
    "Get the centroids of sa2"
   ]
  },
  {
   "cell_type": "code",
   "execution_count": 2,
   "metadata": {},
   "outputs": [],
   "source": [
    "GCCSA_2016 = gpd.read_file('../data/raw/map polygons/1270055001_gccsa_2016_aust_shape/GCCSA_2016_AUST.shp')\n",
    "GCCSA_2016 = GCCSA_2016.to_crs('EPSG:7855')\n",
    "Greater_Melbourne_2016 = GCCSA_2016.iloc[3]['geometry']"
   ]
  },
  {
   "cell_type": "code",
   "execution_count": 3,
   "metadata": {},
   "outputs": [
    {
     "name": "stderr",
     "output_type": "stream",
     "text": [
      "/Applications/anaconda3/envs/spanalytics/lib/python3.11/site-packages/geopandas/geodataframe.py:1525: SettingWithCopyWarning: \n",
      "A value is trying to be set on a copy of a slice from a DataFrame.\n",
      "Try using .loc[row_indexer,col_indexer] = value instead\n",
      "\n",
      "See the caveats in the documentation: https://pandas.pydata.org/pandas-docs/stable/user_guide/indexing.html#returning-a-view-versus-a-copy\n",
      "  super().__setitem__(key, value)\n"
     ]
    }
   ],
   "source": [
    "SA2_2016 = gpd.read_file('../data/raw/map polygons/1270055001_sa2_2016_aust_shape/SA2_2016_AUST.shp')\n",
    "SA2_2016 = SA2_2016.to_crs('EPSG:7855')\n",
    "SA2_GreaterMelbourne_2016 = SA2_2016[SA2_2016.within(Greater_Melbourne_2016)]\n",
    "SA2_GreaterMelbourne_2016['centre'] = SA2_GreaterMelbourne_2016['geometry'].centroid.apply(lambda x: Point(x.x, x.y))\n",
    "SA2_GreaterMelbourne_2016_centroid = gpd.GeoDataFrame(SA2_GreaterMelbourne_2016, geometry='centre')\n",
    "# SA2_GreaterMelbourne_2016_centroid[['SA2_NAME16', 'centre']].to_file('../data/curated/stations/GreaterMelbourneCentroid2016.shp')"
   ]
  },
  {
   "cell_type": "code",
   "execution_count": 12,
   "metadata": {},
   "outputs": [],
   "source": [
    "GCCSA_2021 = gpd.read_file('../data/raw/map polygons/GCCSA_2021_AUST_SHP_GDA2020/GCCSA_2021_AUST_GDA2020.shp')\n",
    "GCCSA_2021 = GCCSA_2021.to_crs('EPSG:7855')\n",
    "Greater_Melbourne_2021 = GCCSA_2021.iloc[4]['geometry']"
   ]
  },
  {
   "cell_type": "code",
   "execution_count": 13,
   "metadata": {},
   "outputs": [
    {
     "name": "stderr",
     "output_type": "stream",
     "text": [
      "/Applications/anaconda3/envs/spanalytics/lib/python3.11/site-packages/geopandas/geodataframe.py:1525: SettingWithCopyWarning: \n",
      "A value is trying to be set on a copy of a slice from a DataFrame.\n",
      "Try using .loc[row_indexer,col_indexer] = value instead\n",
      "\n",
      "See the caveats in the documentation: https://pandas.pydata.org/pandas-docs/stable/user_guide/indexing.html#returning-a-view-versus-a-copy\n",
      "  super().__setitem__(key, value)\n"
     ]
    }
   ],
   "source": [
    "SA2_2021 = gpd.read_file('../data/raw/map polygons/SA2_2021_AUST_SHP_GDA2020/SA2_2021_AUST_GDA2020.shp')\n",
    "SA2_2021 = SA2_2021.to_crs('EPSG:7855')\n",
    "SA2_GreaterMelbourne_2021 = SA2_2021[SA2_2021.within(Greater_Melbourne_2021)]\n",
    "SA2_GreaterMelbourne_2021['centre'] = SA2_GreaterMelbourne_2021['geometry'].centroid.apply(lambda x: Point(x.x, x.y))\n",
    "SA2_GreaterMelbourne_2021_centroid = gpd.GeoDataFrame(SA2_GreaterMelbourne_2021, geometry='centre')\n",
    "# SA2_GreaterMelbourne_2021_centroid[['SA2_NAME21', 'centre']].to_file('../data/curated/stations/GreaterMelbourneCentroid2021.shp')"
   ]
  },
  {
   "cell_type": "markdown",
   "metadata": {},
   "source": [
    "---"
   ]
  },
  {
   "cell_type": "code",
   "execution_count": 88,
   "metadata": {},
   "outputs": [],
   "source": [
    "mean_daily_train_demand_precovid = gpd.read_file('../data/curated/train_demand/mean_daily_trains_demand_pre_covid.gpkg')\n",
    "mean_daily_train_demand_postcovid = gpd.read_file('../data/curated/train_demand/mean_daily_trains_demand_post_covid.gpkg')\n",
    "mean_daily_train_demand_precovid = mean_daily_train_demand_precovid.to_crs('EPSG:7855')\n",
    "mean_daily_train_demand_postcovid = mean_daily_train_demand_postcovid.to_crs('EPSG:7855')"
   ]
  },
  {
   "cell_type": "code",
   "execution_count": 89,
   "metadata": {},
   "outputs": [
    {
     "name": "stderr",
     "output_type": "stream",
     "text": [
      "/var/folders/xg/8w_3dndd6l5c3n99vd7vd3f40000gn/T/ipykernel_86236/2669080601.py:21: UserWarning: Column names longer than 10 characters will be truncated when saved to ESRI Shapefile.\n",
      "  train_stations_in_sa2_precovid.to_file('../data/curated/stations/train_stations_in_sa2_precovid.shp')\n",
      "/var/folders/xg/8w_3dndd6l5c3n99vd7vd3f40000gn/T/ipykernel_86236/2669080601.py:22: UserWarning: Column names longer than 10 characters will be truncated when saved to ESRI Shapefile.\n",
      "  train_stations_in_sa2_postcovid.to_file('../data/curated/stations/train_stations_in_sa2_postcovid.shp')\n"
     ]
    }
   ],
   "source": [
    "# join up \n",
    "train_stations_in_sa2_precovid = gpd.sjoin(mean_daily_train_demand_precovid, SA2_2016, how = 'left', predicate='within')\n",
    "train_stations_in_sa2_postcovid = gpd.sjoin(mean_daily_train_demand_postcovid, SA2_2021, how='left', predicate='within')\n",
    "\n",
    "# merge the data to get the polygons because sjoins take out the right's geometry (each gdf should only have 1 geometry)\n",
    "train_stations_in_sa2_precovid = train_stations_in_sa2_precovid.merge(SA2_2016, left_on='SA2_MAIN16', right_on='SA2_MAIN16')\n",
    "train_stations_in_sa2_postcovid = train_stations_in_sa2_postcovid.merge(SA2_2021, left_on='SA2_CODE21', right_on='SA2_CODE21')\n",
    "\n",
    "train_stations_in_sa2_precovid = train_stations_in_sa2_precovid[['Station_Name', 'Passenger_Boardings', 'Passenger_Alightings',\n",
    "       'Total_Demand', 'log_Passenger_Boardings', 'log_Passenger_Alightings',\n",
    "       'log_Total_Demand', 'geometry_y', 'SA2_NAME16_x']]\n",
    "train_stations_in_sa2_precovid = train_stations_in_sa2_precovid.rename(columns={'geometry_y': 'geometry', 'SA2_NAME16_x': 'SA2_NAME16'})\n",
    "train_stations_in_sa2_postcovid = train_stations_in_sa2_postcovid[['Station_Name', 'Passenger_Boardings', 'Passenger_Alightings',\n",
    "       'Total_Demand', 'log_Passenger_Boardings', 'log_Passenger_Alightings',\n",
    "       'log_Total_Demand', 'geometry_y', 'SA2_NAME21_x']]\n",
    "train_stations_in_sa2_postcovid = train_stations_in_sa2_postcovid.rename(columns={'geometry_y': 'geometry', 'SA2_NAME21_x': 'SA2_NAME21'})\n",
    "\n",
    "train_stations_in_sa2_precovid = gpd.GeoDataFrame(train_stations_in_sa2_precovid, geometry='geometry')\n",
    "train_stations_in_sa2_postcovid = gpd.GeoDataFrame(train_stations_in_sa2_postcovid, geometry='geometry')\n",
    "\n",
    "train_stations_in_sa2_precovid.to_file('../data/curated/train_demand/train_stations_in_sa2_precovid.shp')\n",
    "train_stations_in_sa2_postcovid.to_file('../data/curated/train_demand/train_stations_in_sa2_postcovid.shp')"
   ]
  },
  {
   "cell_type": "markdown",
   "metadata": {},
   "source": [
    "---\n",
    "Concat list of suburbs w/out stations and stations"
   ]
  },
  {
   "cell_type": "code",
   "execution_count": 100,
   "metadata": {},
   "outputs": [
    {
     "name": "stderr",
     "output_type": "stream",
     "text": [
      "/Applications/anaconda3/envs/spanalytics/lib/python3.11/site-packages/geopandas/geodataframe.py:1525: SettingWithCopyWarning: \n",
      "A value is trying to be set on a copy of a slice from a DataFrame.\n",
      "Try using .loc[row_indexer,col_indexer] = value instead\n",
      "\n",
      "See the caveats in the documentation: https://pandas.pydata.org/pandas-docs/stable/user_guide/indexing.html#returning-a-view-versus-a-copy\n",
      "  super().__setitem__(key, value)\n",
      "/Applications/anaconda3/envs/spanalytics/lib/python3.11/site-packages/geopandas/geodataframe.py:1525: SettingWithCopyWarning: \n",
      "A value is trying to be set on a copy of a slice from a DataFrame.\n",
      "Try using .loc[row_indexer,col_indexer] = value instead\n",
      "\n",
      "See the caveats in the documentation: https://pandas.pydata.org/pandas-docs/stable/user_guide/indexing.html#returning-a-view-versus-a-copy\n",
      "  super().__setitem__(key, value)\n",
      "/Applications/anaconda3/envs/spanalytics/lib/python3.11/site-packages/geopandas/geodataframe.py:1525: SettingWithCopyWarning: \n",
      "A value is trying to be set on a copy of a slice from a DataFrame.\n",
      "Try using .loc[row_indexer,col_indexer] = value instead\n",
      "\n",
      "See the caveats in the documentation: https://pandas.pydata.org/pandas-docs/stable/user_guide/indexing.html#returning-a-view-versus-a-copy\n",
      "  super().__setitem__(key, value)\n",
      "/Applications/anaconda3/envs/spanalytics/lib/python3.11/site-packages/geopandas/geodataframe.py:1525: SettingWithCopyWarning: \n",
      "A value is trying to be set on a copy of a slice from a DataFrame.\n",
      "Try using .loc[row_indexer,col_indexer] = value instead\n",
      "\n",
      "See the caveats in the documentation: https://pandas.pydata.org/pandas-docs/stable/user_guide/indexing.html#returning-a-view-versus-a-copy\n",
      "  super().__setitem__(key, value)\n"
     ]
    }
   ],
   "source": [
    "mean_daily_train_demand_precovid_stations = mean_daily_train_demand_precovid[['Station_Name', 'geometry']]\n",
    "mean_daily_train_demand_postcovid_stations = mean_daily_train_demand_postcovid[['Station_Name', 'geometry']]\n",
    "mean_daily_train_demand_precovid_stations['point_type'] = 'station'\n",
    "mean_daily_train_demand_postcovid_stations['point_type'] = 'station'\n",
    "mean_daily_train_demand_precovid_stations = mean_daily_train_demand_precovid_stations.rename(columns={'Station_Name': 'Point Name'})\n",
    "mean_daily_train_demand_postcovid_stations = mean_daily_train_demand_postcovid_stations.rename(columns={'Station_Name': 'Point Name'})\n",
    "\n",
    "SA2_GreaterMelbourne_2016_centroid_suburbs_only = SA2_GreaterMelbourne_2016_centroid[['SA2_NAME16', 'centre']]\n",
    "SA2_GreaterMelbourne_2016_centroid_suburbs_only['point_type'] = 'suburb'\n",
    "SA2_GreaterMelbourne_2016_centroid_suburbs_only = SA2_GreaterMelbourne_2016_centroid_suburbs_only.rename(columns={'SA2_NAME16': 'Point Name', 'centre': 'geometry'})\n",
    "\n",
    "SA2_GreaterMelbourne_2021_centroid_suburbs_only = SA2_GreaterMelbourne_2021_centroid[['SA2_NAME21', 'centre']]\n",
    "SA2_GreaterMelbourne_2021_centroid_suburbs_only['point_type'] = 'suburb'\n",
    "SA2_GreaterMelbourne_2021_centroid_suburbs_only = SA2_GreaterMelbourne_2021_centroid_suburbs_only.rename(columns={'SA2_NAME21': 'Point Name', 'centre': 'geometry'})\n",
    "\n",
    "all_points_precovid = pd.concat([mean_daily_train_demand_precovid_stations, SA2_GreaterMelbourne_2016_centroid_suburbs_only])\n",
    "all_points_postcovid = pd.concat([mean_daily_train_demand_postcovid_stations, SA2_GreaterMelbourne_2021_centroid_suburbs_only])"
   ]
  },
  {
   "cell_type": "code",
   "execution_count": 103,
   "metadata": {},
   "outputs": [],
   "source": [
    "suburbs_with_stations_2016 = train_stations_in_sa2_precovid['SA2_NAME16'].unique()\n",
    "suburbs_with_stations_2021 = train_stations_in_sa2_postcovid['SA2_NAME21'].unique()\n",
    "all_points_precovid = all_points_precovid[~(all_points_precovid['Point Name'].isin(suburbs_with_stations_2016)) | (all_points_precovid['point_type'] == 'station')]\n",
    "all_points_postcovid = all_points_postcovid[~(all_points_postcovid['Point Name'].isin(suburbs_with_stations_2021)) | (all_points_postcovid['point_type'] == 'station')]"
   ]
  },
  {
   "cell_type": "code",
   "execution_count": 106,
   "metadata": {},
   "outputs": [],
   "source": [
    "all_points_precovid.to_file('../data/curated/stations/all_points_precovid_(SA2 without stations).shp')\n",
    "all_points_postcovid.to_file('../data/curated/stations/all_points_postcovid_(SA2 without stations).shp')"
   ]
  }
 ],
 "metadata": {
  "kernelspec": {
   "display_name": "spanalytics",
   "language": "python",
   "name": "python3"
  },
  "language_info": {
   "codemirror_mode": {
    "name": "ipython",
    "version": 3
   },
   "file_extension": ".py",
   "mimetype": "text/x-python",
   "name": "python",
   "nbconvert_exporter": "python",
   "pygments_lexer": "ipython3",
   "version": "3.11.6"
  }
 },
 "nbformat": 4,
 "nbformat_minor": 2
}
