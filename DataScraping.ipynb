{
 "cells": [
  {
   "cell_type": "code",
   "execution_count": 1,
   "metadata": {},
   "outputs": [],
   "source": [
    "import re\n",
    "from json import dump\n",
    "import requests\n",
    "import pandas as pd\n",
    "from collections import defaultdict\n",
    "from bs4 import BeautifulSoup\n",
    "from urllib.request import urlopen\n",
    "from urllib.request import urlretrieve"
   ]
  },
  {
   "cell_type": "code",
   "execution_count": 2,
   "metadata": {},
   "outputs": [],
   "source": [
    "# pip install openpyxl"
   ]
  },
  {
   "cell_type": "code",
   "execution_count": 3,
   "metadata": {},
   "outputs": [],
   "source": [
    "url = \"https://www.australia-shoppings.com/malls-centres/victoria\"\n",
    "shopping_metadata = defaultdict(dict)\n",
    "bs_object = BeautifulSoup(requests.get(url).text, \"html.parser\")"
   ]
  },
  {
   "cell_type": "code",
   "execution_count": 4,
   "metadata": {},
   "outputs": [],
   "source": [
    "shopping_list = bs_object.find(\"ul\" , {\"class\": \"malls-list\"})\n",
    "# This pattern matches coordinate information\n",
    "pattern = r\"(-?\\d+(\\.\\d+)?),\\s*(-?\\d+(\\.\\d+)?)\"\n",
    "\n",
    "# Loop through the list of shopping centres\n",
    "for li in shopping_list.find_all(\"li\"):\n",
    "    # Extract name, address\n",
    "    name = li.find(\"h3\",{\"class\": \"tit\"}).text.strip()\n",
    "    addr = li.find(\"p\", {\"class\":\"st\"})\n",
    "    # Further extract suburb and coordinate from address\n",
    "    suburb = addr.text.split(',')[1]\n",
    "    match = re.findall(pattern, addr.text)\n",
    "    coordinate = [float(match[0][0]),float(match[0][2])]\n",
    "    shopping_metadata[name] = coordinate[0], coordinate[1]"
   ]
  },
  {
   "cell_type": "code",
   "execution_count": 5,
   "metadata": {},
   "outputs": [],
   "source": [
    "with open('data/shopping_centre.json', 'w') as f:\n",
    "    dump(shopping_metadata, f)\n",
    "shopping = pd.read_json('data/shopping_centre.json').transpose()\n",
    "shopping = shopping.reset_index()\n",
    "# Rename columns\n",
    "shopping.columns = ['name', 'latitude', 'longitude']\n",
    "shopping.to_csv('data/shopping_centre.csv', index=False)"
   ]
  },
  {
   "cell_type": "code",
   "execution_count": 6,
   "metadata": {},
   "outputs": [],
   "source": [
    "output_hospital = 'data/hospitals.csv'\n",
    "url = 'https://springernature.figshare.com/ndownloader/files/15591434'\n",
    "urlretrieve(url, output_hospital)\n",
    "hospitals = pd.read_csv(\"data/hospitals.csv\", encoding='cp1252')\n",
    "hospitals_vic = hospitals[hospitals[\"State\"] == \"Vic\"]\n",
    "# Extract useful features\n",
    "hospitals_select = hospitals_vic[[\"Hospital name\",\"Postcode\",\"Latitude\",\"Longitude\"]].reset_index(drop=True)\n",
    "hospitals_select.to_csv(output_hospital, index=False)"
   ]
  },
  {
   "cell_type": "code",
   "execution_count": 7,
   "metadata": {},
   "outputs": [],
   "source": [
    "output_facility = 'data/sport_facilities.xlsx'\n",
    "url = \"https://discover.data.vic.gov.au/dataset/e6db797e-3801-4cfa-bf02-82350d0f722d/resource/bfff5fff-9c74-4671-8396-43f793613b70/download/srv_ifmd_all-facilities.xlsx\"\n",
    "urlretrieve(url, output_facility)\n",
    "\n",
    "facility = pd.read_excel(output_facility, usecols=['Facility Name', 'Latitude', 'Longitude', 'Pcode'])\n",
    "facility = facility.drop_duplicates(subset=['Facility Name']).reset_index(drop=True)\n",
    "facility.to_csv('data/sport_facilities.csv')"
   ]
  },
  {
   "cell_type": "code",
   "execution_count": 8,
   "metadata": {},
   "outputs": [],
   "source": [
    "output_school = 'data/schools.csv'\n",
    "url = \"https://www.education.vic.gov.au/Documents/about/research/datavic/dv346-schoollocations2023.csv\"\n",
    "urlretrieve(url, output_school)\n",
    "\n",
    "school = pd.read_csv(output_school, usecols=['School_Name', 'Address_Postcode', 'X', 'Y'], encoding='cp1252')\n",
    "school.columns = ['School_Name', 'Address_Postcode', 'Longitude', 'Latitude']\n",
    "school.to_csv(output_school, index=False)"
   ]
  },
  {
   "cell_type": "code",
   "execution_count": null,
   "metadata": {},
   "outputs": [],
   "source": [
    "output_building = 'data/buildings'"
   ]
  }
 ],
 "metadata": {
  "kernelspec": {
   "display_name": "spanalytics",
   "language": "python",
   "name": "python3"
  },
  "language_info": {
   "codemirror_mode": {
    "name": "ipython",
    "version": 3
   },
   "file_extension": ".py",
   "mimetype": "text/x-python",
   "name": "python",
   "nbconvert_exporter": "python",
   "pygments_lexer": "ipython3",
   "version": "3.11.6"
  }
 },
 "nbformat": 4,
 "nbformat_minor": 2
}
