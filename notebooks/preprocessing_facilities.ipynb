{
 "cells": [
  {
   "cell_type": "code",
   "execution_count": 33,
   "metadata": {},
   "outputs": [],
   "source": [
    "import pandas as pd\n",
    "import geopandas as gpd\n",
    "from shapely.geometry import Point"
   ]
  },
  {
   "cell_type": "code",
   "execution_count": 34,
   "metadata": {},
   "outputs": [],
   "source": [
    "hospitals = pd.read_csv('../data/non-residential_facilities/hospitals.csv')\n",
    "schools = pd.read_csv('../data/non-residential_facilities/schools.csv')\n",
    "shopping = pd.read_csv('../data/non-residential_facilities/shopping_centre.csv')\n",
    "sport = pd.read_csv('../data/non-residential_facilities/sport_facilities.csv')"
   ]
  },
  {
   "cell_type": "code",
   "execution_count": 35,
   "metadata": {},
   "outputs": [],
   "source": [
    "def to_gpd(df):\n",
    "    df['geometry'] = [Point(xy) for xy in zip(df.Longitude, df.Latitude)]\n",
    "    gdf = gpd.GeoDataFrame(df, geometry='geometry')\n",
    "    gdf.set_crs('EPSG:4326', inplace=True)\n",
    "    gdf = gdf.to_crs('EPSG:7855')\n",
    "    return gdf\n",
    "\n",
    "hospitals = to_gpd(hospitals)\n",
    "schools = to_gpd(schools)\n",
    "shopping = to_gpd(shopping)\n",
    "sport = to_gpd(sport)"
   ]
  },
  {
   "cell_type": "code",
   "execution_count": 36,
   "metadata": {},
   "outputs": [],
   "source": [
    "GCCSA = gpd.read_file('../data/GCCSA_2021_AUST_SHP_GDA2020/GCCSA_2021_AUST_GDA2020.shp')\n",
    "GCCSA = GCCSA.to_crs('EPSG:7855')\n",
    "Greater_Melbourne = GCCSA.iloc[4]['geometry']\n",
    "\n",
    "SA2 = gpd.read_file('../data/SA2_2021_AUST_SHP_GDA2020/SA2_2021_AUST_GDA2020.shp')\n",
    "SA2 = SA2.to_crs('EPSG:7855')\n",
    "SA2_GreaterMelbourne = SA2[SA2.within(Greater_Melbourne)]\n",
    "SA2_GreaterMelbourne = SA2_GreaterMelbourne[['SA2_CODE21', 'SA2_NAME21', 'geometry']]\n",
    "SA2_GreaterMelbourne['SA2_CODE21'] = SA2_GreaterMelbourne['SA2_CODE21'].astype('int64')"
   ]
  },
  {
   "cell_type": "code",
   "execution_count": 37,
   "metadata": {},
   "outputs": [],
   "source": [
    "joined_hospital = gpd.sjoin(hospitals, SA2_GreaterMelbourne, how=\"inner\", predicate='within')\n",
    "joined_schools = gpd.sjoin(schools, SA2_GreaterMelbourne, how=\"inner\", predicate='within')\n",
    "joined_shopping = gpd.sjoin(shopping, SA2_GreaterMelbourne, how=\"inner\", predicate='within')\n",
    "joined_sport = gpd.sjoin(sport, SA2_GreaterMelbourne, how=\"inner\", predicate='within')"
   ]
  },
  {
   "cell_type": "code",
   "execution_count": 38,
   "metadata": {},
   "outputs": [],
   "source": [
    "joined_hospital = joined_hospital.drop(['Postcode', 'Latitude', 'Longitude', 'index_right'], axis=1)\n",
    "joined_hospital.to_csv('../output/preprocessing/non-residential_facilities/hospitals_GreaterMelbourne.csv', index=False)"
   ]
  },
  {
   "cell_type": "code",
   "execution_count": 39,
   "metadata": {},
   "outputs": [],
   "source": [
    "joined_schools = joined_schools.drop(['Address_Postcode', 'Latitude', 'Longitude', 'index_right'], axis=1)\n",
    "joined_schools.to_csv('../output/preprocessing/non-residential_facilities/schools_GreaterMelbourne.csv', index=False)"
   ]
  },
  {
   "cell_type": "code",
   "execution_count": 40,
   "metadata": {},
   "outputs": [],
   "source": [
    "joined_shopping = joined_shopping.drop(['Latitude', 'Longitude', 'index_right'], axis=1)\n",
    "joined_shopping.to_csv('../output/preprocessing/non-residential_facilities/shopping_GreaterMelbourne.csv', index=False)"
   ]
  },
  {
   "cell_type": "code",
   "execution_count": 41,
   "metadata": {},
   "outputs": [],
   "source": [
    "joined_sport = joined_sport.drop(['Pcode', 'Latitude', 'Longitude', 'index_right'], axis=1)\n",
    "joined_sport.to_csv('../output/preprocessing/non-residential_facilities/sport_GreaterMelbourne.csv', index=False)"
   ]
  }
 ],
 "metadata": {
  "kernelspec": {
   "display_name": "spanalytics",
   "language": "python",
   "name": "python3"
  },
  "language_info": {
   "codemirror_mode": {
    "name": "ipython",
    "version": 3
   },
   "file_extension": ".py",
   "mimetype": "text/x-python",
   "name": "python",
   "nbconvert_exporter": "python",
   "pygments_lexer": "ipython3",
   "version": "3.11.6"
  }
 },
 "nbformat": 4,
 "nbformat_minor": 2
}
