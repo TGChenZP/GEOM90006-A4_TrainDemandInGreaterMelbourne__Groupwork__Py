{
 "cells": [
  {
   "cell_type": "code",
   "execution_count": 2,
   "metadata": {},
   "outputs": [],
   "source": [
    "import joblib\n",
    "import pandas as pd\n",
    "import numpy as np"
   ]
  },
  {
   "cell_type": "code",
   "execution_count": 4,
   "metadata": {},
   "outputs": [],
   "source": [
    "lgbm_model = joblib.load('../output/lgbm_model.pkl')\n",
    "data = pd.read_parquet('../data/ML_data/SA2_ML_data.parquet')"
   ]
  },
  {
   "cell_type": "code",
   "execution_count": 5,
   "metadata": {},
   "outputs": [],
   "source": [
    "n = int(len(data) / 2)\n",
    "pred = lgbm_model.predict(data.drop(['Station Name'], axis=1))\n",
    "pred_weekday = pred[:n]\n",
    "pred_weekend = pred[n:]"
   ]
  },
  {
   "cell_type": "code",
   "execution_count": 6,
   "metadata": {},
   "outputs": [],
   "source": [
    "SA2 = list(data['Station Name'])[:n]\n",
    "SA2_demand = pd.DataFrame([SA2, pred_weekday, pred_weekend], index=['SA2', 'log_demand_weekday', 'log_demand_weekend']).T"
   ]
  },
  {
   "cell_type": "code",
   "execution_count": 7,
   "metadata": {},
   "outputs": [],
   "source": [
    "scaler = joblib.load('../data/ML_data/y_scaler.pickle')\n"
   ]
  },
  {
   "cell_type": "code",
   "execution_count": 8,
   "metadata": {},
   "outputs": [],
   "source": [
    "SA2_demand['demand_weekday'] = scaler.inverse_transform(SA2_demand[['log_demand_weekday']])\n",
    "SA2_demand['demand_weekday'] = SA2_demand['demand_weekday'].apply(lambda x: np.exp(x))\n",
    "\n",
    "SA2_demand['demand_weekend'] = scaler.inverse_transform(SA2_demand[['log_demand_weekend']])\n",
    "SA2_demand['demand_weekend'] = SA2_demand['demand_weekend'].apply(lambda x: np.exp(x))"
   ]
  },
  {
   "cell_type": "code",
   "execution_count": 9,
   "metadata": {},
   "outputs": [],
   "source": [
    "SA2_demand['total_demand'] = (SA2_demand['demand_weekday'] * 5 + SA2_demand['demand_weekend'] * 2) / 7"
   ]
  },
  {
   "cell_type": "code",
   "execution_count": 11,
   "metadata": {},
   "outputs": [],
   "source": [
    "SA2_demand.to_csv('../output/demand_predictions.csv', index=False)"
   ]
  },
  {
   "cell_type": "code",
   "execution_count": null,
   "metadata": {},
   "outputs": [],
   "source": []
  }
 ],
 "metadata": {
  "kernelspec": {
   "display_name": "spanalytics",
   "language": "python",
   "name": "python3"
  },
  "language_info": {
   "codemirror_mode": {
    "name": "ipython",
    "version": 3
   },
   "file_extension": ".py",
   "mimetype": "text/x-python",
   "name": "python",
   "nbconvert_exporter": "python",
   "pygments_lexer": "ipython3",
   "version": "3.11.6"
  }
 },
 "nbformat": 4,
 "nbformat_minor": 2
}
