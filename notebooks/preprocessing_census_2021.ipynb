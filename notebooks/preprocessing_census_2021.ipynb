{
 "cells": [
  {
   "cell_type": "code",
   "execution_count": 8,
   "metadata": {},
   "outputs": [],
   "source": [
    "import pandas as pd\n",
    "import json\n",
    "import geopandas as gpd"
   ]
  },
  {
   "cell_type": "code",
   "execution_count": 15,
   "metadata": {},
   "outputs": [],
   "source": [
    "census_2021 = pd.read_csv('../data/SA2-T02_Selected_Medians_and_Averages.csv/abs_2021census_t02_aust_sa2-8898358042715570011.csv')\n"
   ]
  },
  {
   "cell_type": "code",
   "execution_count": 17,
   "metadata": {},
   "outputs": [],
   "source": [
    "census_2021.columns = ['Average_household_size', 'Median_total_household_income_weekly', \n",
    "                      'Average_number_of_persons_per_bedroom', 'Median_age_of_persons',\n",
    "                      'Median_rent_weekly', 'Median_mortgage_repayment_monthly',\n",
    "                      'Median_total_personal_income_weekly', 'Median_total_family_income_weekly',\n",
    "                      'sa2_code_2021']"
   ]
  },
  {
   "cell_type": "code",
   "execution_count": 18,
   "metadata": {},
   "outputs": [],
   "source": [
    "GCCSA = gpd.read_file('../data/GCCSA_2021_AUST_SHP_GDA2020/GCCSA_2021_AUST_GDA2020.shp')\n",
    "GCCSA = GCCSA.to_crs('EPSG:7855')\n",
    "Greater_Melbourne = GCCSA.iloc[4]['geometry']\n",
    "\n",
    "SA2 = gpd.read_file('../data/SA2_2021_AUST_SHP_GDA2020/SA2_2021_AUST_GDA2020.shp')\n",
    "SA2 = SA2.to_crs('EPSG:7855')"
   ]
  },
  {
   "cell_type": "code",
   "execution_count": 19,
   "metadata": {},
   "outputs": [],
   "source": [
    "SA2_GreaterMelbourne = SA2[SA2.within(Greater_Melbourne)]\n",
    "SA2_GreaterMelbourne = SA2_GreaterMelbourne[['SA2_CODE21', 'SA2_NAME21', 'geometry']]\n",
    "SA2_GreaterMelbourne['SA2_CODE21'] = SA2_GreaterMelbourne['SA2_CODE21'].astype('int64')"
   ]
  },
  {
   "cell_type": "code",
   "execution_count": 24,
   "metadata": {},
   "outputs": [],
   "source": [
    "census_2021_geometry = pd.merge(census_2021, SA2_GreaterMelbourne, \n",
    "                               how='inner', left_on='sa2_code_2021', right_on='SA2_CODE21').drop('sa2_code_2021', axis=1)"
   ]
  },
  {
   "cell_type": "code",
   "execution_count": 25,
   "metadata": {},
   "outputs": [],
   "source": [
    "census_2021_geometry = gpd.GeoDataFrame(census_2021_geometry, geometry='geometry')\n",
    "census_2021_geometry.to_csv('../output/preprocessing/census_SA2_GreaterMelbourne_2021.csv', index=False)\n"
   ]
  }
 ],
 "metadata": {
  "kernelspec": {
   "display_name": "spanalytics",
   "language": "python",
   "name": "python3"
  },
  "language_info": {
   "codemirror_mode": {
    "name": "ipython",
    "version": 3
   },
   "file_extension": ".py",
   "mimetype": "text/x-python",
   "name": "python",
   "nbconvert_exporter": "python",
   "pygments_lexer": "ipython3",
   "version": "3.11.6"
  }
 },
 "nbformat": 4,
 "nbformat_minor": 2
}
