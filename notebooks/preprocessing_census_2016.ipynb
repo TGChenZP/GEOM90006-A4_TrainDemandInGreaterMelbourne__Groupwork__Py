{
 "cells": [
  {
   "cell_type": "code",
   "execution_count": 1,
   "metadata": {},
   "outputs": [],
   "source": [
    "import pandas as pd\n",
    "import geopandas as gpd"
   ]
  },
  {
   "cell_type": "code",
   "execution_count": 3,
   "metadata": {},
   "outputs": [],
   "source": [
    "census_2016 = pd.read_csv('../data/SA2-P02_Selected_Medians_and_Averages-Census_2016.csv/sa2_p02_selected_medians_and_averages_census_2016-7489535763835097688.csv')\n",
    "census_2016.columns = ['sa2_name_2016', 'Median_total_household_income_weekly', \n",
    "                       'Median_age_of_persons', 'Median_mortgage_repayment_monthly',\n",
    "                       'Median_rent_weekly', 'Average_number_of_persons_per_bedroom',\n",
    "                       'sa2_code_2016', 'Median_total_family_income_weekly',\n",
    "                       'Average_household_size', 'Median_total_personal_income_weekly']\n",
    "census_2016.drop('sa2_name_2016', axis=1, inplace=True)"
   ]
  },
  {
   "cell_type": "code",
   "execution_count": 6,
   "metadata": {},
   "outputs": [],
   "source": [
    "GCCSA = gpd.read_file('../data/1270055001_gccsa_2016_aust_shape/GCCSA_2016_AUST.shp')\n",
    "GCCSA = GCCSA.to_crs('EPSG:7855')\n",
    "Greater_Melbourne = GCCSA.iloc[3]['geometry']"
   ]
  },
  {
   "cell_type": "code",
   "execution_count": 7,
   "metadata": {},
   "outputs": [],
   "source": [
    "SA2 = gpd.read_file('../data/1270055001_sa2_2016_aust_shape/SA2_2016_AUST.shp')\n",
    "SA2 = SA2.to_crs('EPSG:7855')"
   ]
  },
  {
   "cell_type": "code",
   "execution_count": 10,
   "metadata": {},
   "outputs": [],
   "source": [
    "SA2_GreaterMelbourne = SA2[SA2.within(Greater_Melbourne)]\n",
    "SA2_GreaterMelbourne = SA2_GreaterMelbourne[['SA2_MAIN16', 'SA2_NAME16', 'geometry']]\n",
    "SA2_GreaterMelbourne['SA2_MAIN16'] = SA2_GreaterMelbourne['SA2_MAIN16'].astype('int64')"
   ]
  },
  {
   "cell_type": "code",
   "execution_count": 13,
   "metadata": {},
   "outputs": [],
   "source": [
    "census_2016_geometry = pd.merge(census_2016, SA2_GreaterMelbourne, \n",
    "                               how='inner', left_on='sa2_code_2016', right_on='SA2_MAIN16').drop('sa2_code_2016', axis=1)"
   ]
  },
  {
   "cell_type": "code",
   "execution_count": 15,
   "metadata": {},
   "outputs": [],
   "source": [
    "census_2016_geometry = gpd.GeoDataFrame(census_2016_geometry, geometry='geometry')\n",
    "census_2016_geometry.to_csv('../output/preprocessing/census_SA2_GreaterMelbourne_2016.csv', index=False)"
   ]
  }
 ],
 "metadata": {
  "kernelspec": {
   "display_name": "spanalytics",
   "language": "python",
   "name": "python3"
  },
  "language_info": {
   "codemirror_mode": {
    "name": "ipython",
    "version": 3
   },
   "file_extension": ".py",
   "mimetype": "text/x-python",
   "name": "python",
   "nbconvert_exporter": "python",
   "pygments_lexer": "ipython3",
   "version": "3.11.6"
  }
 },
 "nbformat": 4,
 "nbformat_minor": 2
}
